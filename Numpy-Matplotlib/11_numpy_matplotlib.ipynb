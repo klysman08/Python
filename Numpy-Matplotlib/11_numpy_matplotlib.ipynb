{
  "cells": [
    {
      "cell_type": "markdown",
      "metadata": {
        "id": "QR4TQsQVXXqT"
      },
      "source": [
        "# Introdução à Programação de Computadores\n",
        "\n",
        "**Professores:**<br>\n",
        "Cristiano Rodrigues<br>\n",
        "Matheus Barros<br>\n",
        "Jefersson Alex dos Santos"
      ]
    },
    {
      "cell_type": "markdown",
      "metadata": {
        "id": "O-xX4EVUV_G0"
      },
      "source": [
        "# Capítulo 11 - Bibliotecas Científicas: NumPy e Matplotlib"
      ]
    },
    {
      "cell_type": "markdown",
      "metadata": {
        "id": "nA2y4pLrV_G2"
      },
      "source": [
        "# 1. Introdução\n",
        "---------------\n",
        "Nesta aula prática, usaremos o Jupyter Notebook, que é um ambiente computacional interativo, no qual você poderá combinar execução de código, formatação de textos, matemática, gráficos e mídia. \n",
        "Para mais informações consulte o link: [jupyter.org](https://jupyter.org/ \"Página jupyter.org\")\n",
        "\n",
        "**NumPy e Matplotlib** \n",
        "\n",
        "Hoje serão abordados dois pacotes do Python: o NumPy e o Matplotlib.\n",
        "\n",
        "Um pacote pode ser compreendido como uma biblioteca que fornece funcionalidades específicas e que, desta forma, permite estender o núcleo básico do Python.\n",
        "\n",
        "O **NumPy**, por exemplo, é o pacote fundamental para computação científica do Python. A instalação básica do Python não inclui o NumPy (ele deve ser instalado separadamente). \n",
        "\n",
        "Já o **Matplotlib** é um pacote (biblioteca) para plotar/desenhar gráficos no Python. Existem outros pacotes com a mesma finalidade, e o Matplotlib foi o escolhido para o curso, pois é um dos mais usados. Assim como o NumPy, o Matplotlib também não é instalado com a versão básica do Python (ele deve ser instalado separadamente).\n",
        "\n",
        "A instalação do Anaconda, um ambiente alternativo para este curso, inclui o Python e uma série de pacotes científicos, dentre eles o NumPy e o Matplotlib.\n",
        "\n",
        "Para ter uma noção dos pacotes instalados pelo Anaconda, execute no Prompt do Comando (do Anaconda) o comando:\n",
        "*conda list*\n",
        "\n",
        "Alternativamente, execute a célula abaixo:"
      ]
    },
    {
      "cell_type": "code",
      "execution_count": null,
      "metadata": {
        "colab": {
          "base_uri": "https://localhost:8080/"
        },
        "id": "5CFIuMrrV_G3",
        "outputId": "f7f61479-0dcc-4e05-c554-3deff1d75d3c",
        "scrolled": false
      },
      "outputs": [],
      "source": [
        "print(help(\"modules\"))"
      ]
    },
    {
      "cell_type": "markdown",
      "metadata": {
        "id": "6XcIXnt6V_G8"
      },
      "source": [
        "\n",
        "Nas próximas seções faremos uma introdução ao NumPy.\n",
        "\n",
        "Antes de prosseguir, no entanto, é importante relembrar alguns conceitos importantes das listas.\n",
        "\n",
        "**1.1 Listas**\n",
        "\n",
        "Uma lista (**list**) é o equivalente do Python para um array, sendo que pode ser redimensionado e pode conter elementos de tipos diferentes.\n",
        "\n",
        "Execute o código abaixo e preste atenção aos comentários de cada linha e a saída que ela gera."
      ]
    },
    {
      "cell_type": "code",
      "execution_count": 2,
      "metadata": {
        "colab": {
          "base_uri": "https://localhost:8080/"
        },
        "id": "znXtSgDAV_HB",
        "outputId": "18d9bec5-9fcd-4277-ab0a-1f1f080a33da",
        "scrolled": true
      },
      "outputs": [
        {
          "name": "stdout",
          "output_type": "stream",
          "text": [
            "[3, 1, 2] 2\n",
            "2\n",
            "[3, 1, 'minas']\n",
            "[3, 1, 'minas', 'gerais']\n",
            "gerais [3, 1, 'minas']\n"
          ]
        }
      ],
      "source": [
        "#listas - relembrando algumas propriedades\n",
        "xs = [3, 1, 2]       # Cria uma lista\n",
        "print(xs, xs[2])     # Imprime \"[3, 1, 2] 2\"\n",
        "print(xs[-1])        # Indices negativos contam a partir do final da lista: imprime \"2\"\n",
        "xs[2] = 'minas'      # Listas podem conter elementos de tipos diferentes\n",
        "print(xs)            # Imprime \"[3, 1, 'minas']\"\n",
        "xs.append('gerais')  # Adiciona novo elemento ao fim da lista\n",
        "print(xs)            # Imprime  \"[3, 1, 'minas', 'gerais']\"\n",
        "x = xs.pop()         # Remove e retorna o último elemento da lista\n",
        "print(x, xs)         # Imprime \"gerais [3, 1, 'minas']\"\n"
      ]
    },
    {
      "cell_type": "markdown",
      "metadata": {
        "id": "mVJccLXHV_HF"
      },
      "source": [
        "**Fatiamento de listas**: além de poder acessar um elemento de cada vez, o Python possui uma notação concisa para permitir o acesso a sublistas, que é conhecida como fatiamento (*slicing*).\n"
      ]
    },
    {
      "cell_type": "code",
      "execution_count": 3,
      "metadata": {
        "colab": {
          "base_uri": "https://localhost:8080/"
        },
        "id": "MYkf-WfxV_HG",
        "outputId": "e957638a-fb0d-4d3d-fabf-f86f2454c2f7"
      },
      "outputs": [
        {
          "name": "stdout",
          "output_type": "stream",
          "text": [
            "[0, 1, 2, 3, 4]\n",
            "[2, 3]\n",
            "[2, 3, 4]\n",
            "[0, 1]\n",
            "[0, 1, 2, 3, 4]\n",
            "[0, 1, 2, 3]\n",
            "[0, 1, 8, 9, 4]\n",
            "[4, 9, 8, 1, 0]\n"
          ]
        }
      ],
      "source": [
        "nums = list(range(5))     # range is a função pré-definida que cria uma lista de inteiros\n",
        "print(nums)               # imprime \"[0, 1, 2, 3, 4]\"\n",
        "print(nums[2:4])          # obtém uma fatia do índice 2 ao 4 (**exclusive**); imprime \"[2, 3]\"\n",
        "print(nums[2:])           # obtém uma fatia do índice 2 até o final; imprime \"[2, 3, 4]\"\n",
        "print(nums[:2])           # obtém uma fatia do início até o índice 2 (exclusive); imprime \"[0, 1]\"\n",
        "print(nums[:])            # obtém uma fatia da lista toda; imprime \"[0, 1, 2, 3, 4]\"\n",
        "print(nums[:-1])          # indices do fatiamento podem ser negativos; imprime \"[0, 1, 2, 3]\"\n",
        "nums[2:4] = [8, 9]        # atribui uma nova sublista à fatia\n",
        "print(nums)               # imprime \"[0, 1, 8, 9, 4]\"\n",
        "nums_invertido = nums[::-1] # inverte a listas\n",
        "print(nums_invertido)     # imprime \"[4, 9, 8, 1, 0]\""
      ]
    },
    {
      "cell_type": "markdown",
      "metadata": {
        "id": "XEWR9p9LV_HI"
      },
      "source": [
        "**Exercício 1**\n",
        "\n",
        "Dada a lista abaixo:\n",
        "```python\n",
        "lista1 = [0, 1, 2, 3, 2, 1, 0]\n",
        "```\n",
        "determine o fatiamento que produza a lista [2, 3, 2] e imprima"
      ]
    },
    {
      "cell_type": "code",
      "execution_count": 4,
      "metadata": {
        "id": "WZc5XI9mV_HJ"
      },
      "outputs": [
        {
          "name": "stdout",
          "output_type": "stream",
          "text": [
            "[2, 3, 2]\n"
          ]
        }
      ],
      "source": [
        "#Exercício 1 - faça sua reposta nessa célula\n",
        "\n",
        "lista1 = [0, 1, 2, 3, 2, 1, 0]\n",
        "# crie o código aqui\n",
        "\n",
        "print(lista1[2:5])\n"
      ]
    },
    {
      "cell_type": "markdown",
      "metadata": {
        "id": "Jd9JIX0xV_HM"
      },
      "source": [
        "\n",
        "Uma questão interessante sobre as listas (que também vale para dicionários e alguns objetos do Python) é que quando você atribui uma lista a outra, as duas passam a *apontar* para os mesmos valores.\n",
        "\n",
        "Verifique com atenção os comentários do código abaixo:\n"
      ]
    },
    {
      "cell_type": "code",
      "execution_count": 7,
      "metadata": {
        "colab": {
          "base_uri": "https://localhost:8080/"
        },
        "id": "MRjDY0IaV_HN",
        "outputId": "24476bd6-a535-4d0a-d1a3-0c8bcfb83b59"
      },
      "outputs": [
        {
          "name": "stdout",
          "output_type": "stream",
          "text": [
            "[1, 2, 3, 4]\n",
            "[1, 2, 3, 4]\n",
            "[1, 2, 3, 4, 10]\n",
            "[1, 2, 3, 4, 10]\n",
            "[1, 2, 3, 4]\n",
            "[1, 2, 3, 4]\n",
            "********************\n",
            "[1, 2, 3, 4]\n",
            "[1, 2, 3, 4, 10]\n",
            "[1, 2, 3, 4]\n",
            "[1, 2, 3, 4]\n"
          ]
        }
      ],
      "source": [
        "lista1 = [1, 2, 3, 4]\n",
        "print(lista1)         # vai imprimir [1, 2, 3, 4]\n",
        "\n",
        "lista2 = lista1       # essa atribuição faz com que lista2 aponte para os mesmos valores de lista1\n",
        "                      # dessa forma, qualquer alteração em lista2 será refletida em lista1\n",
        "                \n",
        "print(lista2)         # vai imprimir [1, 2, 3, 4]\n",
        "\n",
        "lista2.append(10)     # adiciona 10 ao último elemento da lista\n",
        "\n",
        "print(lista2)         # vai imprimir [1, 2, 3, 4, 10]\n",
        "print(lista1)         # vai imprimir [1, 2, 3, 4, 10]\n",
        "\n",
        "# para evitar esse comportamento, a atriuição deve ser feita com a função list()\n",
        "lista1 = [1, 2, 3, 4]\n",
        "print(lista1)         # vai imprimir [1, 2, 3, 4]\n",
        "lista2 = list(lista1) # nesse caso, uma copia dos valores de lista1 é criada separadamente para lista2\n",
        "lista3 = lista1.copy() # nesse caso, uma copia dos valores de lista1 é criada separadamente para lista3\n",
        "\n",
        "print(lista2)         # vai imprimir [1, 2, 3, 4]\n",
        "print('*' * 20)\n",
        "print(lista3)\n",
        "lista2.append(10)     # adiciona 10 ao último elemento da lista\n",
        "\n",
        "print(lista2)         # vai imprimir [1, 2, 3, 4, 10]\n",
        "print(lista1)         # vai imprimir [1, 2, 3, 4]\n",
        "print(lista3)\n"
      ]
    },
    {
      "cell_type": "markdown",
      "metadata": {
        "id": "Oq7o4DGBV_HU"
      },
      "source": [
        "\n",
        "# 2. Numpy\n",
        "---------------\n",
        "\n",
        "O [Numpy](http://www.numpy.org/) é a principal biblioteca de computação científica do Python.\n",
        "Ela fornece um objeto de array multidimensional de alta performance, bem como ferramentas para trabalhar com esses arrays.\n",
        "\n",
        "Um array do numpy é um grid (grade) de valores, **todos do mesmo tipo**, e é indexado por uma tupla de inteiros não negativos.\n",
        "\n",
        "O número de dimensões é o *rank* do array.\n",
        "\n",
        "O *shape* (formato) de um array é uma tupla de inteiros indicando o tamanho do array em cada dimensão.\n",
        "\n",
        "O código da célula abaixo ilustra esses conceitos e fornece exemplos de inicialização de arrays do numpy.\n",
        "\n",
        "**Clique na célula e execute o código (CTRL+ENTER)**. Altere os valores e analise os resultados."
      ]
    },
    {
      "cell_type": "code",
      "execution_count": 8,
      "metadata": {
        "colab": {
          "base_uri": "https://localhost:8080/"
        },
        "id": "SjIptASfV_HV",
        "outputId": "7dc1030b-5d50-4026-a679-27da4c2b2a1b"
      },
      "outputs": [
        {
          "name": "stdout",
          "output_type": "stream",
          "text": [
            "\n",
            "Array rank 1:\n",
            "[1 2 3]\n",
            "\n",
            "Tipo:\n",
            "<class 'numpy.ndarray'>\n",
            "\n",
            "Shape:\n",
            "(3,)\n",
            "\n",
            "Elementos:\n",
            "5 2 3\n",
            "\n",
            "Array rank 2:\n",
            "[[1 2 3]\n",
            " [4 5 6]]\n",
            "\n",
            "Shape:\n",
            "(2, 3)\n",
            "\n",
            "Alguns elementos:\n",
            "1 2 4\n"
          ]
        }
      ],
      "source": [
        "# numpy código 1\n",
        "\n",
        "\"\"\"\n",
        " O import permite que o nosso programa utilize um pacote.\n",
        " No comando abaixo, fazemos o import do numpy e chamaremos \n",
        " ele de np no nosso programa\n",
        "\"\"\"\n",
        "\n",
        "import numpy as np\n",
        "\n",
        "a = np.array([1, 2, 3])   # cria um array de rank 1 (um vetor)\n",
        "print(\"\\nArray rank 1:\")\n",
        "print(a)                  # imprime \"[1, 2, 3]\"\n",
        "print(\"\\nTipo:\")\n",
        "print(type(a))            # imprime \"<class 'numpy.ndarray'>\"\n",
        "print(\"\\nShape:\")\n",
        "print(a.shape)            # imprime \"(3,)\"\n",
        "a[0] = 5                  # muda um elemento do array \n",
        "print(\"\\nElementos:\")\n",
        "print(a[0], a[1], a[2])   # imprime \"5 2 3\"\n",
        "\n",
        "b = np.array([[1,2,3],[4,5,6]])    # cria um array de rank 2 (uma matriz)\n",
        "print(\"\\nArray rank 2:\")\n",
        "print(b)\n",
        "print(\"\\nShape:\")\n",
        "print(b.shape)                     # imprime \"(2, 3)\"\n",
        "print(\"\\nAlguns elementos:\")\n",
        "print(b[0, 0], b[0, 1], b[1, 0])   # imprime \"1 2 4\""
      ]
    },
    {
      "cell_type": "markdown",
      "metadata": {
        "collapsed": true,
        "id": "-3Q3nShEV_HY"
      },
      "source": [
        "\n",
        "Você pode especificar o tipo de dado do array na sua criação, usando o parâmetro dtype), veja exemplos a seguir:\n"
      ]
    },
    {
      "cell_type": "code",
      "execution_count": 9,
      "metadata": {
        "colab": {
          "base_uri": "https://localhost:8080/"
        },
        "id": "FHmMVrEiV_HZ",
        "outputId": "2824c2cc-b04c-4b9e-d499-047a04d3bceb"
      },
      "outputs": [
        {
          "name": "stdout",
          "output_type": "stream",
          "text": [
            "\n",
            "float64:\n",
            "[[1. 2.]\n",
            " [3. 4.]]\n",
            "\n",
            "int64:\n",
            "[[1 2]\n",
            " [3 4]]\n",
            "\n",
            "int32:\n",
            "[[1 2]\n",
            " [3 4]]\n"
          ]
        }
      ],
      "source": [
        "# numpy código 2\n",
        "\n",
        "import numpy as np\n",
        "\n",
        "x = np.array([[1,2],[3,4]], dtype=np.float64)\n",
        "print(\"\\nfloat64:\")\n",
        "print(x)\n",
        "\n",
        "y = np.array([[1,2],[3,4]], dtype=np.int64)\n",
        "print(\"\\nint64:\")\n",
        "print(y)\n",
        "\n",
        "z = np.array([[1,2],[3,4]], dtype=np.int32)\n",
        "print(\"\\nint32:\")\n",
        "print(z)"
      ]
    },
    {
      "cell_type": "markdown",
      "metadata": {
        "id": "JmgtnoU2V_Hb"
      },
      "source": [
        "**Exercício 2**\n",
        "\n",
        "a) Crie um array do numpy com 3 linhas e 2 colunas (cmo valores que você escolher)\n",
        "\n",
        "b) Imprima o array\n",
        "\n",
        "c) Imprima o formato (shape) do array\n",
        "\n",
        "d) Imprima o rank do array\n",
        " \n",
        "e) Imprima o primeiro elemento da primeira linha e o último elemento da última linha\n"
      ]
    },
    {
      "cell_type": "code",
      "execution_count": 11,
      "metadata": {
        "id": "VC3WAq51V_Hc"
      },
      "outputs": [
        {
          "name": "stdout",
          "output_type": "stream",
          "text": [
            "[[1 2 3]\n",
            " [3 4 5]]\n",
            "(2, 3)\n",
            "1 5\n"
          ]
        }
      ],
      "source": [
        "# Exercício 2 - faça sua resposta nessa célula\n",
        "\n",
        "# a) Crie um array do numpy com 3 linhas e 2 colunas (cmo valores que você escolher)\n",
        "\n",
        "rank2 = np.array([[1,2, 3],[3,4,5]])\n",
        "\n",
        "\n",
        "# b) Imprima o array\n",
        "\n",
        "print(rank2)\n",
        "\n",
        "\n",
        "# c) Imprima o formato (shape) do array\n",
        "\n",
        "print(rank2.shape)\n",
        "\n",
        "\n",
        "# d) Imprima o rank do array\n",
        "\n",
        "\n",
        "# e) Imprima o primeiro elemento da primeira linha e o último elemento da última linha\n",
        "\n",
        "print(rank2[0,0], rank2[1,2])\n",
        "\n"
      ]
    },
    {
      "cell_type": "markdown",
      "metadata": {
        "id": "AsXkZI-RV_Hi"
      },
      "source": [
        "\n",
        " \n",
        " \n",
        "O Numpy também fornece funções para criação de arrays:\n"
      ]
    },
    {
      "cell_type": "code",
      "execution_count": null,
      "metadata": {
        "colab": {
          "base_uri": "https://localhost:8080/"
        },
        "id": "mfnPEL5bV_Hj",
        "outputId": "6d3f4a67-9e57-4b99-966e-ba4b58657f2a"
      },
      "outputs": [
        {
          "name": "stdout",
          "output_type": "stream",
          "text": [
            "[[0. 0.]\n",
            " [0. 0.]]\n",
            "--------------------------------------------\n",
            "[[1. 1.]]\n",
            "--print(a)------------------------------------------\n",
            "[[7 7]\n",
            " [7 7]]\n",
            "--------------------------------------------\n",
            "[[1. 0.]\n",
            " [0. 1.]]\n",
            "--------------------------------------------\n",
            "[[0.83503536 0.78461857 0.91934373]\n",
            " [0.94418751 0.38203316 0.79175657]]\n"
          ]
        }
      ],
      "source": [
        "# numpy código 3\n",
        "\n",
        "import numpy as np\n",
        "\n",
        "a = np.zeros((2,2))   # cria um array de 2 linhas e 2 duas colunas\n",
        "                      # e inicializa todos elementos com valor zero\n",
        "\n",
        "print(a)              # imprime \"[[ 0.  0.]\n",
        "                      #           [ 0.  0.]]\"\n",
        "print(\"--------------------------------------------\")\n",
        "b = np.ones((1,2))    # cria um array de 1 linha e 2 duas colunas\n",
        "                      # e inicializa todos elementos com valor 1.0\n",
        "print(b)              # imprime \"[[ 1.  1.]]\"\n",
        "print(\"--print(a)------------------------------------------\")\n",
        "c = np.full((2,2), 7)  # cria um array de 2 linhas e 2 duas colunas\n",
        "                       # e inicializa todos elementos com a constante 7.\n",
        "print(c)               # imprime  \"[[ 7.  7.]\n",
        "                       #            [ 7.  7.]]\"\n",
        "print(\"--------------------------------------------\")\n",
        "d = np.eye(2)         # cria uma matriz identidade de 2 linhas e 2 duas colunas\n",
        "print(d)              # imprime \"[[ 1.  0.]\n",
        "                      #           [ 0.  1.]]\"\n",
        "print(\"--------------------------------------------\")\n",
        "e = np.random.random((2,3))  # cria um array de 2 linhas e 3 colunas com valores randômicos\n",
        "print(e)                     # imprime algo como \"[[ 0.50850175  0.56783854  0.66564824]\n",
        "                             #                     [ 0.91887667  0.45616976  0.08625947]]\n"
      ]
    },
    {
      "cell_type": "markdown",
      "metadata": {
        "id": "eikd0oeYV_Hm"
      },
      "source": [
        "Por fim, também é possível criar um array vazio e acrescentar as linhas *programaticamente*, mas a sintaxe é bem diferente das listas porque os arrays podem ter muitas dimensões:"
      ]
    },
    {
      "cell_type": "code",
      "execution_count": 12,
      "metadata": {
        "colab": {
          "base_uri": "https://localhost:8080/"
        },
        "id": "a5FHoiUOV_Hn",
        "outputId": "d28271a6-3554-455b-ff7a-6b5a1a3f8d02"
      },
      "outputs": [
        {
          "name": "stdout",
          "output_type": "stream",
          "text": [
            "Vetor:\n",
            "Acrescenta um elemento:\n",
            "[0.]\n",
            "Acrescenta vários elementos de uma vez:\n",
            "[0. 1. 2. 3.]\n",
            "\n",
            "Matriz:\n",
            "Acrescenta uma linha:\n",
            "[[0. 1. 2.]]\n",
            "Acrescenta várias linhas de uma vez:\n",
            "[[ 0.  1.  2.]\n",
            " [ 3.  4.  5.]\n",
            " [ 6.  7.  8.]\n",
            " [ 9. 10. 11.]]\n"
          ]
        }
      ],
      "source": [
        "# numpy código 4\n",
        "\n",
        "# Cria um array de rank 1 vazio e acrescenta elementos\n",
        "print(\"Vetor:\")\n",
        "vetor = np.empty((0), dtype=np.float64)\n",
        "print(\"Acrescenta um elemento:\")\n",
        "vetor = np.append(vetor, [0.])\n",
        "print(vetor)\n",
        "print(\"Acrescenta vários elementos de uma vez:\")\n",
        "vetor = np.append(vetor, [1., 2., 3.])\n",
        "print(vetor)\n",
        "\n",
        "\n",
        "# Cria um array de rank 2 vazio e acrescenta linhas\n",
        "print(\"\\nMatriz:\")\n",
        "matriz = np.empty((0, 3), dtype=np.float64)\n",
        "print(\"Acrescenta uma linha:\")\n",
        "matriz = np.append(matriz, [[0., 1., 2.]], axis=0)\n",
        "print(matriz)\n",
        "print(\"Acrescenta várias linhas de uma vez:\")\n",
        "matriz = np.append(matriz, [[3., 4., 5.], [6., 7., 8.], [9., 10., 11.]], axis=0)\n",
        "print(matriz)\n"
      ]
    },
    {
      "cell_type": "markdown",
      "metadata": {
        "id": "R6YU513vV_Hp"
      },
      "source": [
        "\n",
        "**2.1 Indexação de Arrays (acesso aos elementos do array)**\n",
        "\n",
        "O Numpy oferece vários modos de acessar os elementos do array.\n",
        "\n",
        "**Fatiamento**: de modo semelhante às listas do Python, os arrays do numpy podem ser fatiados. Como os arrays do numpy podem ser multidimensionais, você precisa especificar *a fatia* de cada dimensão do array:\n"
      ]
    },
    {
      "cell_type": "code",
      "execution_count": null,
      "metadata": {
        "colab": {
          "base_uri": "https://localhost:8080/"
        },
        "id": "036OaasLV_Hq",
        "outputId": "a699698e-f2a6-4b35-f007-b471909287a4",
        "scrolled": false
      },
      "outputs": [
        {
          "name": "stdout",
          "output_type": "stream",
          "text": [
            "\n",
            "slice_de_a\n",
            "[[2 3]\n",
            " [6 7]]\n",
            "\n",
            "2\n",
            "\n",
            "slice_de_a\n",
            "[[77  3]\n",
            " [ 6  7]]\n",
            "\n",
            "77\n",
            "77\n",
            "\n",
            "novo_array\n",
            "[[81  3]\n",
            " [ 6  7]]\n",
            "\n",
            "77\n"
          ]
        }
      ],
      "source": [
        "# numpy código 5\n",
        "\n",
        "import numpy as np\n",
        "\n",
        "# cria o seguinte array com shape(3, 4)\n",
        "# [[ 1  2  3  4]\n",
        "#  [ 5  6  7  8]\n",
        "#  [ 9 10 11 12]]\n",
        "a = np.array([[1,2,3,4], [5,6,7,8], [9,10,11,12]])\n",
        "\n",
        "# usa fatiamento para obter o subarray com os elementos \n",
        "# das primeiras 2 linhas e das colunas 1 e 2.\n",
        "# o subarray é atribuído a slice_de_a\n",
        "# [[2 3]\n",
        "#  [6 7]]\n",
        "slice_de_a = a[:2, 1:3]\n",
        "print(\"\\nslice_de_a\")\n",
        "print(slice_de_a)\n",
        "print(\"\")\n",
        "\n",
        "# Uma fatia de um array é uma visão dos mesmos dados, então as \n",
        "# modificações são refletidas no array original.\n",
        "print(a[0, 1])         # imprime \"2\"\n",
        "slice_de_a[0, 0] = 77  # slice_de_a[0, 0] é o mesmo dado de a[0, 1]\n",
        "print(\"\\nslice_de_a\")\n",
        "print(slice_de_a)\n",
        "print(\"\")\n",
        "print(a[0, 1])         # imprime \"77\"\n",
        "\n",
        "# esse comportamento é desejável em muitas situações\n",
        "# se fosse necessário criar uma cópia independente, poderia ser\n",
        "# utilizado o construtor np.array(), conforme exemplo abaixo:\n",
        "novo_array = np.array(a[:2, 1:3])\n",
        "print(a[0, 1])         # imprime \"77\"\n",
        "novo_array[0, 0] = 81  # slice_de_a[0, 0] é o mesmo dado de a[0, 1]\n",
        "print(\"\\nnovo_array\")\n",
        "print(novo_array)\n",
        "print(\"\")\n",
        "print(a[0, 1])         # imprime \"77\"\n"
      ]
    },
    {
      "cell_type": "markdown",
      "metadata": {
        "id": "ZmtvLZKLV_Hz"
      },
      "source": [
        "**Exercício 3**\n",
        "\n",
        "Dado um array ar, de 5 linhas e 4 colunas:<br>\n",
        "[[0, 0, 0, 0],<br>\n",
        " [0, 0, 0, 0],<br>\n",
        " [0, 1, 2, 0],<br>\n",
        " [0, 3, 4, 0],<br>\n",
        " [0, 0, 0, 0]]\n",
        "\n",
        "Faça um fatiamento que produza o subarray:<br>\n",
        "[[1, 2],<br>\n",
        " [3, 4]]"
      ]
    },
    {
      "cell_type": "code",
      "execution_count": 13,
      "metadata": {
        "id": "f1eX_v12V_H0"
      },
      "outputs": [
        {
          "name": "stdout",
          "output_type": "stream",
          "text": [
            "[[1 2]\n",
            " [3 4]]\n"
          ]
        }
      ],
      "source": [
        "# Exercício 3 - faça sua resposta nessa célula\n",
        "\n",
        "import numpy as np\n",
        "\n",
        "ar = np.array([[0, 0, 0, 0],\n",
        "               [0, 0, 0, 0],\n",
        "               [0, 1, 2, 0],\n",
        "               [0, 3, 4, 0],\n",
        "               [0, 0, 0, 0]])\n",
        "\n",
        "# crie o seu código aqui\n",
        "\n",
        "slice__of_ar = ar[2:4, 1:3]\n",
        "print(slice__of_ar)"
      ]
    },
    {
      "cell_type": "markdown",
      "metadata": {
        "id": "YYsNkkeTV_H3"
      },
      "source": [
        "\n",
        "**Indexação inteira com fatiamento**: você também pode usar indexação inteira com fatiamento, mas o subarray produzido terá rank menor que o original."
      ]
    },
    {
      "cell_type": "code",
      "execution_count": 14,
      "metadata": {
        "colab": {
          "base_uri": "https://localhost:8080/"
        },
        "id": "0oJ_OQhlV_H4",
        "outputId": "f04a6d34-fa3f-4f94-dca8-5b619d61d34f",
        "scrolled": true
      },
      "outputs": [
        {
          "name": "stdout",
          "output_type": "stream",
          "text": [
            "[5 6 7 8] (4,)\n",
            "[[5 6 7 8]] (1, 4)\n",
            "[ 2  6 10] (3,)\n",
            "[[ 2]\n",
            " [ 6]\n",
            " [10]] (3, 1)\n"
          ]
        }
      ],
      "source": [
        "# numpy código 6\n",
        "\n",
        "import numpy as np\n",
        "\n",
        "# cria o seguinte array com shape(3, 4)\n",
        "# [[ 1  2  3  4]\n",
        "#  [ 5  6  7  8]\n",
        "#  [ 9 10 11 12]]\n",
        "a = np.array([[1,2,3,4], [5,6,7,8], [9,10,11,12]])\n",
        "\n",
        "# Two ways of accessing the data in the middle row of the array.\n",
        "# Mixing integer indexing with slices yields an array of lower rank,\n",
        "# while using only slices yields an array of the same rank as the\n",
        "# original array:\n",
        "linha_r1 = a[1, :]    # visão da 2a linha (com Rank 1)\n",
        "linha_r2 = a[1:2, :]  # visão da 2a linha (com Rank 2)\n",
        "print(linha_r1, linha_r1.shape)  # imprime \"[5 6 7 8] (4,)\"\n",
        "print(linha_r2, linha_r2.shape)  # imprime \"[[5 6 7 8]] (1, 4)\"\n",
        "\n",
        "# podemos fazer a mesma coisa com colunas\n",
        "col_r1 = a[:, 1]\n",
        "col_r2 = a[:, 1:2]\n",
        "print(col_r1, col_r1.shape)  # imprime \"[ 2  6 10] (3,)\"\n",
        "print(col_r2, col_r2.shape)  # imprime \"[[ 2]\n",
        "                             #          [ 6]\n",
        "                             #          [10]] (3, 1)\"\n"
      ]
    },
    {
      "cell_type": "markdown",
      "metadata": {
        "id": "qXms9LAeV_H8"
      },
      "source": [
        "\n",
        "**Indexação boleana**: você também pode usar indexação com base no valor dos elementos da matriz.\n",
        "\n",
        "No exemplo abaixo, vamos zerar* todos os elementos negativos da matriz.\n",
        "\n"
      ]
    },
    {
      "cell_type": "code",
      "execution_count": 15,
      "metadata": {
        "colab": {
          "base_uri": "https://localhost:8080/"
        },
        "id": "kqw70yZjV_H_",
        "outputId": "5b7ca496-c417-43fb-a7e3-a3ffa0fc8ba3"
      },
      "outputs": [
        {
          "name": "stdout",
          "output_type": "stream",
          "text": [
            "Array original:\n",
            "[[21 -6]\n",
            " [43 14]\n",
            " [-5 36]]\n",
            "Depois da alteração:\n",
            "[[21  0]\n",
            " [43 14]\n",
            " [ 0 36]]\n"
          ]
        }
      ],
      "source": [
        "# numpy código 7\n",
        "\n",
        "import numpy as np\n",
        "\n",
        "a = np.array([[21,-6], [43, 14], [-5, 36]])\n",
        "\n",
        "print (\"Array original:\")\n",
        "print(a)\n",
        "\n",
        "a[a<0] = 0\n",
        "\n",
        "print (\"Depois da alteração:\")\n",
        "print(a)\n"
      ]
    },
    {
      "cell_type": "markdown",
      "metadata": {
        "collapsed": true,
        "id": "sZwEQGL6V_IC"
      },
      "source": [
        "\n",
        "**2.2 Operações matemáticas**\n",
        "\n",
        "Operações matemáticas básicas operam elemento a elemento nos arrays.\n",
        "Essas operações podem ser feitas usando os operadores (+, -, \\*, etc) ou através de funções (np.add(), np.subtract(), np.multiply(), etc)\n",
        "\n",
        "**Arrays e constantes**: as operações mais simples são com constantes, onde é possível, por exemplo, somar uma constante a todos elementos do array ou multiplicar todos os elementos por uma constante.\n"
      ]
    },
    {
      "cell_type": "code",
      "execution_count": null,
      "metadata": {
        "colab": {
          "base_uri": "https://localhost:8080/"
        },
        "id": "D0tV9io0V_ID",
        "outputId": "6c2e97ba-37e4-494f-deef-348d1f8d7af7"
      },
      "outputs": [
        {
          "name": "stdout",
          "output_type": "stream",
          "text": [
            "Array x:\n",
            "[[1 2]\n",
            " [3 4]]\n",
            "Array y (x + 10):\n",
            "[[11 12]\n",
            " [13 14]]\n",
            "Array x multiplicado por 10:\n",
            "[[10 20]\n",
            " [30 40]]\n"
          ]
        }
      ],
      "source": [
        "# numpy código 8\n",
        "\n",
        "#operações com constantes\n",
        "\n",
        "x = np.array([[1,2],[3,4]])\n",
        "print(\"Array x:\")\n",
        "print(x)\n",
        "y = x + 10\n",
        "print(\"Array y (x + 10):\")\n",
        "print(y)\n",
        "x = x*10\n",
        "print(\"Array x multiplicado por 10:\")\n",
        "print(x)\n"
      ]
    },
    {
      "cell_type": "markdown",
      "metadata": {
        "id": "nbkkKb77V_II"
      },
      "source": [
        "**Operações com arrays**: essas operações envolvem dois ou mais arrays."
      ]
    },
    {
      "cell_type": "code",
      "execution_count": 1,
      "metadata": {
        "colab": {
          "base_uri": "https://localhost:8080/"
        },
        "id": "duMIANH1V_IJ",
        "outputId": "d5f19cf1-0316-4012-e9e0-01fec961728d",
        "scrolled": true
      },
      "outputs": [
        {
          "name": "stdout",
          "output_type": "stream",
          "text": [
            "[[ 6.  8.]\n",
            " [10. 12.]]\n",
            "[[ 6.  8.]\n",
            " [10. 12.]]\n",
            "[[-4. -4.]\n",
            " [-4. -4.]]\n",
            "[[-4. -4.]\n",
            " [-4. -4.]]\n",
            "[[ 5. 12.]\n",
            " [21. 32.]]\n",
            "[[ 5. 12.]\n",
            " [21. 32.]]\n",
            "[[0.2        0.33333333]\n",
            " [0.42857143 0.5       ]]\n",
            "[[0.2        0.33333333]\n",
            " [0.42857143 0.5       ]]\n",
            "[[1.         1.41421356]\n",
            " [1.73205081 2.        ]]\n"
          ]
        }
      ],
      "source": [
        "# numpy código 9\n",
        "\n",
        "#operações com arrays\n",
        "\n",
        "import numpy as np\n",
        "\n",
        "x = np.array([[1,2],\n",
        "              [3,4]], dtype=np.float64)\n",
        "y = np.array([[5,6],\n",
        "              [7,8]], dtype=np.float64)\n",
        "\n",
        "# soma elemento a elemento; ambas produzem o array:\n",
        "# [[ 6.0  8.0]\n",
        "#  [10.0 12.0]]\n",
        "print(x + y)\n",
        "print(np.add(x, y))\n",
        "\n",
        "# subtração elemento a elemento; ambas produzem o array:\n",
        "# [[-4.0 -4.0]\n",
        "#  [-4.0 -4.0]]\n",
        "print(x - y)\n",
        "print(np.subtract(x, y))\n",
        "\n",
        "# multiplicação elemento a elemento (diferente da multiplicação de matrizes)\n",
        "# ambos produzem o array:\n",
        "# [[ 5.0 12.0]\n",
        "#  [21.0 32.0]]\n",
        "print(x * y)\n",
        "print(np.multiply(x, y))\n",
        "\n",
        "# divisão elemento a elemento; ambas produzem o array:\n",
        "# [[ 0.2         0.33333333]\n",
        "#  [ 0.42857143  0.5       ]]\n",
        "print(x / y)\n",
        "print(np.divide(x, y))\n",
        "\n",
        "# raiz quadrada elemento a elemento\n",
        "# [[ 1.          1.41421356]\n",
        "#  [ 1.73205081  2.        ]]\n",
        "print(np.sqrt(x))\n",
        "\n"
      ]
    },
    {
      "cell_type": "markdown",
      "metadata": {
        "collapsed": true,
        "id": "OfSxI-45V_IV"
      },
      "source": [
        "\n",
        "O Numpy fornece uma função específica para a multiplicação de matrizes, que é a função **dot**:"
      ]
    },
    {
      "cell_type": "code",
      "execution_count": null,
      "metadata": {
        "colab": {
          "base_uri": "https://localhost:8080/"
        },
        "id": "p-gHFDtPV_IY",
        "outputId": "d8e0408c-15fe-41b2-80c5-328cb5f37daf"
      },
      "outputs": [
        {
          "name": "stdout",
          "output_type": "stream",
          "text": [
            "219\n",
            "219\n",
            "[29 67]\n",
            "[29 67]\n",
            "[[19 22]\n",
            " [43 50]]\n",
            "[[19 22]\n",
            " [43 50]]\n",
            "[[19 22]\n",
            " [43 50]]\n"
          ]
        }
      ],
      "source": [
        "# numpy código 10\n",
        "\n",
        "import numpy as np\n",
        "\n",
        "x = np.array([[1,2],[3,4]])\n",
        "y = np.array([[5,6],[7,8]])\n",
        "\n",
        "v = np.array([9,10])\n",
        "w = np.array([11, 12])\n",
        "\n",
        "# Produto interno de vetores, ambos produzem 219\n",
        "print(v.dot(w))\n",
        "print(np.dot(v, w))\n",
        "\n",
        "# Produto de Matrix / vetor; ambos produzem o array de rank 1 [29 67]\n",
        "print(x.dot(v))\n",
        "print(np.dot(x, v))\n",
        "\n",
        "# Produto de Matrix / matrix; ambos produzem o array de rank 2\n",
        "# [[19 22]\n",
        "#  [43 50]]\n",
        "print(x.dot(y))\n",
        "print(np.dot(x, y))\n",
        "print(x @ y)\n"
      ]
    },
    {
      "cell_type": "markdown",
      "metadata": {
        "collapsed": true,
        "id": "XOfz100vV_Ia"
      },
      "source": [
        "\n",
        "O Numpy fornece várias funções para realizar computações em arrays, uma das mais úteis é a função **sum**:"
      ]
    },
    {
      "cell_type": "code",
      "execution_count": null,
      "metadata": {
        "colab": {
          "base_uri": "https://localhost:8080/"
        },
        "id": "hwspsFEAV_Ib",
        "outputId": "67faf17a-a1f1-4221-b47e-bfc5dbd564a7",
        "scrolled": true
      },
      "outputs": [
        {
          "name": "stdout",
          "output_type": "stream",
          "text": [
            "Array:\n",
            "[[ 1  2  3  4]\n",
            " [10 20 30 40]]\n",
            "Soma de todos elementos de x: \n",
            "110\n",
            "Soma dos elementos de cada coluna:\n",
            "[11 22 33 44]\n",
            "Soma dos elementos de cada linha:\n",
            "[ 10 100]\n"
          ]
        }
      ],
      "source": [
        "# numpy código 11\n",
        "\n",
        "import numpy as np\n",
        "\n",
        "x = np.array([[1,2, 3, 4],[10, 20, 30, 40]], dtype=np.int64)\n",
        "\n",
        "print(\"Array:\")\n",
        "print(x)\n",
        "\n",
        "print(\"Soma de todos elementos de x: \")\n",
        "print(np.sum(x))  \n",
        "print(\"Soma dos elementos de cada coluna:\")\n",
        "print(np.sum(x, axis=0))\n",
        "print(\"Soma dos elementos de cada linha:\")\n",
        "print(np.sum(x, axis=1)) \n"
      ]
    },
    {
      "cell_type": "markdown",
      "metadata": {
        "id": "2V0TE7ADV_Id"
      },
      "source": [
        "**Exercício 4**\n",
        "\n",
        "    \n",
        "a) Crie um array do numpy, com duas linhas e 5 colunas com valores float (não esqueça de usar o parâmetro **dtype**) de sua escolha.\n",
        "\n",
        "E imprima:\n",
        "\n",
        "b) a soma dos elementos das linhas do array\n",
        "\n",
        "c) a multiplicação dos elementos das colunas do array\n",
        "\n",
        "d) a média de todos elementos do array\n",
        "\n",
        "e) a média dos elementos das linhas do array\n",
        "\n",
        "f) a média dos elementos das colunas do array\n",
        "\n",
        "g) o desvio padrão de todos elementos do array\n",
        "\n",
        "h) o desvio padrão das linhas do array\n",
        "\n",
        "i) o desvio padrão dos elementos das colunas do array\n",
        "\n",
        "**Obs.: para o desvio padrão, utilize a função *std***.\n",
        "\n",
        "Para verificar uma lista de funções úteis ofrnecidas pelo numpy, [consulte a documentação](http://docs.scipy.org/doc/numpy/reference/routines.math.html).\n",
        "\n"
      ]
    },
    {
      "cell_type": "code",
      "execution_count": 1,
      "metadata": {
        "colab": {
          "base_uri": "https://localhost:8080/"
        },
        "id": "8PoXtzeLV_Ie",
        "outputId": "7251c584-189d-4665-a70e-ec2bb05d6518"
      },
      "outputs": [
        {
          "name": "stdout",
          "output_type": "stream",
          "text": [
            "Array:\n",
            " [[ 1.  2.  3.  4.  5.]\n",
            " [ 6.  7.  8.  9. 10.]]\n",
            "Soma dos elementos das linhas do array:\n",
            " [[15.]\n",
            " [40.]]\n",
            "Multiplicação dos elementos das colunas do array:\n",
            " [[ 6. 14. 24. 36. 50.]]\n",
            "Média de todos elementos do array:\n",
            " 5.5\n",
            "Média dos elementos das linhas do array:\n",
            " [[3.]\n",
            " [8.]]\n",
            "Média dos elementos das colunas do array:\n",
            " [[3.5 4.5 5.5 6.5 7.5]]\n",
            "Desvio padrão de todos elementos do array:\n",
            " 2.8722813232690143\n",
            "Desvio padrão das linhas do array:\n",
            " [[1.41421356]\n",
            " [1.41421356]]\n",
            "Desvio padrão das colunas do array:\n",
            " [[2.5 2.5 2.5 2.5 2.5]]\n"
          ]
        }
      ],
      "source": [
        "# Exercício 4 - faça sua resposta nessa célula\n",
        "\n",
        "import numpy as np\n",
        " \n",
        "# a) Crie um array do numpy, com duas linhas e 5 colunas com valores \n",
        "#    float (não esqueça de usar o parâmetro **dtype**) de sua escolha.\n",
        "\n",
        "array = np.array([[1, 2, 3, 4, 5], [6, 7, 8, 9, 10]], dtype=np.float64)\n",
        "print('Array:\\n', array)\n",
        "\n",
        "# b) a soma dos elementos das linhas do array\n",
        "\n",
        "soma = np.sum(array, axis=1, keepdims=True)\n",
        "print('Soma dos elementos das linhas do array:\\n', soma)\n",
        "\n",
        "# c) a multiplicação dos elementos das colunas do array\n",
        "\n",
        "mult = np.prod(array, axis=0, keepdims=True)\n",
        "print('Multiplicação dos elementos das colunas do array:\\n', mult)\n",
        "\n",
        "\n",
        "# d) a média de todos elementos do array\n",
        "\n",
        "media = np.mean(array)\n",
        "print('Média de todos elementos do array:\\n', media)\n",
        "\n",
        "\n",
        "# e) a média dos elementos das linhas do array\n",
        "\n",
        "media_linha = np.mean(array, axis=1, keepdims=True)\n",
        "print('Média dos elementos das linhas do array:\\n', media_linha)\n",
        "\n",
        "\n",
        "# f) a média dos elementos das colunas do array\n",
        "\n",
        "media_coluna = np.mean(array, axis=0, keepdims=True)\n",
        "print('Média dos elementos das colunas do array:\\n', media_coluna)\n",
        "\n",
        "\n",
        "# g) o desvio padrão de todos elementos do array\n",
        "\n",
        "desvio = np.std(array)\n",
        "print('Desvio padrão de todos elementos do array:\\n', desvio)\n",
        "\n",
        "\n",
        "# h) o desvio padrão das linhas do array\n",
        "\n",
        "desvio_linha = np.std(array, axis=1, keepdims=True)\n",
        "print('Desvio padrão das linhas do array:\\n', desvio_linha)\n",
        "\n",
        "\n",
        "# i) o desvio padrão dos elementos das colunas do array\n",
        "\n",
        "desvio_coluna = np.std(array, axis=0, keepdims=True)\n",
        "print('Desvio padrão das colunas do array:\\n', desvio_coluna)\n",
        "\n"
      ]
    },
    {
      "cell_type": "markdown",
      "metadata": {
        "id": "IyvWrkvFV_Ik"
      },
      "source": [
        "Uma operação muito comum em diversos contextos consiste em encontrar a transposta de uma matriz, que nada mais é que girar a matriz no eixo diagonal principal.\n",
        "\n",
        "Para realizar isso no numpy, basta utilizar o atributo **T** do array, conforme exemplo abaixo:"
      ]
    },
    {
      "cell_type": "code",
      "execution_count": null,
      "metadata": {
        "colab": {
          "base_uri": "https://localhost:8080/"
        },
        "id": "0h_-NUB8V_Im",
        "outputId": "c6af48aa-71cb-4f90-f8b9-09d721c90ae7"
      },
      "outputs": [
        {
          "name": "stdout",
          "output_type": "stream",
          "text": [
            "matriz a:\n",
            "[[1 2]\n",
            " [3 4]\n",
            " [5 6]]\n",
            "matriz a transposta:\n",
            "[[1 3 5]\n",
            " [2 4 6]]\n"
          ]
        }
      ],
      "source": [
        "# numpy código 12\n",
        "\n",
        "import numpy as np\n",
        "\n",
        "a = np.array([[1,2], [3, 4], [5, 6]])\n",
        "\n",
        "print(\"matriz a:\")\n",
        "print(a)\n",
        "print(\"matriz a transposta:\")\n",
        "print(a.T)"
      ]
    },
    {
      "cell_type": "markdown",
      "metadata": {
        "id": "TFbElQgdV_Is"
      },
      "source": [
        "A função abaixo, fornecida pelo Numpy, permite a leitura de arquivos com dados (todos do mesmo tipo) para um array."
      ]
    },
    {
      "cell_type": "code",
      "execution_count": 2,
      "metadata": {
        "colab": {
          "base_uri": "https://localhost:8080/"
        },
        "id": "HNmSj_llV_It",
        "outputId": "bba973f5-d502-473e-c8f8-a96919abaf8c",
        "scrolled": true
      },
      "outputs": [
        {
          "name": "stdout",
          "output_type": "stream",
          "text": [
            "[[88.5 88.4 88.4 88.5 89.  86.4 88.4 89.1 88.9 86.4 87.2]\n",
            " [85.7 85.7 85.7 85.7 85.7 85.7 85.7 85.7 85.7 85.7 85.7]\n",
            " [84.5 88.9 88.9 86.2 86.8 85.3 87.9 87.3 88.9 84.6 87.2]\n",
            " [86.5 85.4 87.6 84.9 87.3 88.5 86.7 85.4 85.8 88.3 87.2]\n",
            " [87.5 89.4 86.5 82.4 89.1 86.8 87.4 88.5 88.9 88.9 87.2]]\n",
            "\n",
            " [88.11 85.7  86.95 86.69 87.51]\n",
            "\n",
            " [0.94 0.   1.58 1.16 1.88]\n"
          ]
        }
      ],
      "source": [
        "# numpy código 13\n",
        "\n",
        "import numpy as np\n",
        "\n",
        "arr = np.loadtxt('dados.csv',delimiter=',',dtype=np.float64)\n",
        "\n",
        "print(arr)\n",
        "print(\"\\n\", np.round(np.average(arr,axis=1), 2))\n",
        "print(\"\\n\", np.round(np.std(arr, axis=1), 2))"
      ]
    },
    {
      "cell_type": "markdown",
      "metadata": {
        "id": "nwAAfn-QV_Iv"
      },
      "source": [
        "\n",
        "# 3. Matplotlib\n",
        "---------------\n",
        "\n",
        "O [Matplotlib](http://matplotlib.org/) é uma biblioteca para produção de gráficos.\n",
        "Nesta seção, faremos uma breve introdução ao módulo **matplotlib.pyplot**.\n",
        "\n",
        "**3.1 Plotando Gráficos de Funções**\n",
        "\n",
        "Uma das funções mais importantes do matplotlib é a **plot**, que permite plotar dados 2D. Observe o exemplo abaixo.\n",
        "\n",
        "**GRÁFICO 1**\n"
      ]
    },
    {
      "cell_type": "code",
      "execution_count": null,
      "metadata": {
        "colab": {
          "base_uri": "https://localhost:8080/",
          "height": 486
        },
        "id": "lDfo0q-jV_Iw",
        "outputId": "99b5e4ef-bcde-446d-aed7-8597b58f397b",
        "scrolled": true
      },
      "outputs": [
        {
          "name": "stdout",
          "output_type": "stream",
          "text": [
            "x é um array do numpy gerado com a função \"np.arange(0, 3 * np.pi, 0.2)\"\n",
            "[0.  0.2 0.4 0.6 0.8 1.  1.2 1.4 1.6 1.8 2.  2.2 2.4 2.6 2.8 3.  3.2 3.4\n",
            " 3.6 3.8 4.  4.2 4.4 4.6 4.8 5.  5.2 5.4 5.6 5.8 6.  6.2 6.4 6.6 6.8 7.\n",
            " 7.2 7.4 7.6 7.8 8.  8.2 8.4 8.6 8.8 9.  9.2 9.4]\n",
            "y também é um array do numpy calculado a partir de x - \"y = np.sin(x)\"\n",
            "[ 0.          0.19866933  0.38941834  0.56464247  0.71735609  0.84147098\n",
            "  0.93203909  0.98544973  0.9995736   0.97384763  0.90929743  0.8084964\n",
            "  0.67546318  0.51550137  0.33498815  0.14112001 -0.05837414 -0.2555411\n",
            " -0.44252044 -0.61185789 -0.7568025  -0.87157577 -0.95160207 -0.993691\n",
            " -0.99616461 -0.95892427 -0.88345466 -0.77276449 -0.63126664 -0.46460218\n",
            " -0.2794155  -0.0830894   0.1165492   0.31154136  0.49411335  0.6569866\n",
            "  0.79366786  0.8987081   0.96791967  0.99854335  0.98935825  0.94073056\n",
            "  0.85459891  0.7343971   0.58491719  0.41211849  0.22288991  0.02477543]\n"
          ]
        },
        {
          "data": {
            "image/png": "[encoded data removed]",
            "text/plain": [
              "<Figure size 432x288 with 1 Axes>"
            ]
          },
          "metadata": {
            "image/png": {
              "height": 248,
              "width": 381
            },
            "needs_background": "light"
          },
          "output_type": "display_data"
        }
      ],
      "source": [
        "# **GRÁFICO 1**\n",
        "\n",
        "import numpy as np\n",
        "import matplotlib.pyplot as plt\n",
        "\n",
        "%matplotlib inline\n",
        "# o comando acima faz com que os gráficos gerados pelo matplotlib \n",
        "# sejam mostrados nesta página e não em uma janela separada\n",
        "\n",
        "# Compute the x and y coordinates for points on a sine curve\n",
        "x = np.arange(0, 3 * np.pi, 0.2)\n",
        "print(\"x é um array do numpy gerado com a função \\\"np.arange(0, 3 * np.pi, 0.2)\\\"\")\n",
        "print(x)\n",
        "y = np.sin(x)\n",
        "print(\"y também é um array do numpy calculado a partir de x - \\\"y = np.sin(x)\\\"\")\n",
        "print(y)\n",
        "      \n",
        "# Plot the points using matplotlib\n",
        "plt.plot(x, y)\n",
        "plt.show()  # You must call plt.show() to make graphics appear.\n",
        "\n"
      ]
    },
    {
      "cell_type": "markdown",
      "metadata": {
        "id": "6CO8thuQV_Iz"
      },
      "source": [
        "Com poucos ajustes é possível traçar múltiplas linhas de uma vez e adicionar um título, legendas e rótulos das coordenadas.\n",
        "\n",
        "**GRÁFICO 2**"
      ]
    },
    {
      "cell_type": "code",
      "execution_count": null,
      "metadata": {
        "colab": {
          "base_uri": "https://localhost:8080/",
          "height": 403
        },
        "id": "r-uCu_kUV_I1",
        "outputId": "f9ae3881-53cf-4ee8-acd7-d0083f9ba409"
      },
      "outputs": [
        {
          "data": {
            "image/png": "[encoded data removed]",
            "text/plain": [
              "<Figure size 720x432 with 1 Axes>"
            ]
          },
          "metadata": {
            "image/png": {
              "height": 386,
              "width": 619
            },
            "needs_background": "light"
          },
          "output_type": "display_data"
        }
      ],
      "source": [
        "# **GRÁFICO 2**\n",
        "\n",
        "import numpy as np\n",
        "import matplotlib\n",
        "import matplotlib.pyplot as plt\n",
        "\n",
        "# computando coordenadas x e y\n",
        "x = np.arange(0, 3 * np.pi, 0.1)\n",
        "y_sin = np.sin(x)\n",
        "y_cos = np.cos(x)\n",
        "y_001x2 = 0.01 * x**2\n",
        "\n",
        "# Plota os pontos usando matplotlib\n",
        "plt.plot(x, y_sin)\n",
        "plt.plot(x, y_cos)\n",
        "plt.plot(x, y_001x2)\n",
        "plt.xlabel('rótulo do eixo x')\n",
        "plt.ylabel('rótulo do eixo y')\n",
        "plt.title('Seno, cosseno e 0.01x²')\n",
        "plt.legend(['Seno', 'Cosseno', '0.01x²'])\n",
        "\n",
        "# os 2 comandos abaixo ajustam o tamanho do gráfico exibido\n",
        "fig = matplotlib.pyplot.gcf()\n",
        "fig.set_size_inches(10, 6)\n",
        "\n",
        "plt.show()\n",
        "\n"
      ]
    },
    {
      "cell_type": "markdown",
      "metadata": {
        "id": "Khog-BecV_I6"
      },
      "source": [
        "**3.2 Gráficos de barras**\n",
        "\n",
        "O exemplo a seguir, ilustra de forma básica os gráficos de barras verticais.\n",
        "\n",
        "**GRÁFICO 3**"
      ]
    },
    {
      "cell_type": "code",
      "execution_count": null,
      "metadata": {
        "colab": {
          "base_uri": "https://localhost:8080/",
          "height": 282
        },
        "id": "D_NasUSCV_I9",
        "outputId": "5456c755-c748-4376-9ecd-b63eab6e1558",
        "scrolled": true
      },
      "outputs": [
        {
          "name": "stdout",
          "output_type": "stream",
          "text": [
            "barras verticais\n"
          ]
        },
        {
          "data": {
            "image/png": "[encoded data removed]",
            "text/plain": [
              "<Figure size 432x288 with 1 Axes>"
            ]
          },
          "metadata": {
            "image/png": {
              "height": 248,
              "width": 367
            },
            "needs_background": "light"
          },
          "output_type": "display_data"
        }
      ],
      "source": [
        "# **GRÁFICO 3**\n",
        "\n",
        "import matplotlib.pyplot as plt\n",
        "\n",
        "data = [5., 25., 50., 20.]\n",
        "\n",
        "\n",
        "print(\"barras verticais\")\n",
        "plt.bar(range(len(data)), data)\n",
        "plt.show()\n"
      ]
    },
    {
      "cell_type": "markdown",
      "metadata": {
        "id": "27B4bAcvV_JB"
      },
      "source": [
        "Ou horizontais.\n",
        "\n",
        "**GRÁFICO 4**"
      ]
    },
    {
      "cell_type": "code",
      "execution_count": 4,
      "metadata": {
        "colab": {
          "base_uri": "https://localhost:8080/",
          "height": 282
        },
        "id": "ob7u59CGV_JC",
        "outputId": "efbaa968-f3f2-4b9c-f0a8-746c5321d717",
        "scrolled": true
      },
      "outputs": [
        {
          "name": "stdout",
          "output_type": "stream",
          "text": [
            "barras horizontais\n"
          ]
        },
        {
          "data": {
            "image/png": "[encoded data removed]",
            "text/plain": [
              "<Figure size 432x288 with 1 Axes>"
            ]
          },
          "metadata": {
            "needs_background": "light"
          },
          "output_type": "display_data"
        }
      ],
      "source": [
        "# **GRÁFICO 4**\n",
        "\n",
        "import matplotlib.pyplot as plt\n",
        "\n",
        "data = [5., 25., 50., 20.]\n",
        "\n",
        "print(\"barras horizontais\")\n",
        "plt.barh(range(len(data)), data, color='r')\n",
        "plt.show()"
      ]
    },
    {
      "cell_type": "markdown",
      "metadata": {
        "id": "wDePPjX2V_JG"
      },
      "source": [
        "Neste último gráfico alteramos a cor das barras. Usamor o 'r', que é a cor vermelha.\n",
        "\n",
        "O matplotlib possui algumas cores predefinidas:\n",
        "* 'b': blue.\n",
        "* 'g': green.\n",
        "* 'r': red.\n",
        "* 'c': cyan.\n",
        "* 'm': magenta.\n",
        "* 'y': yellow.\n",
        "* 'k': black.\n",
        "* 'w': white.\n",
        "\n",
        "Você também pode usar uma cor específica utilizando a combinação de vermelho, verde e azul ('#xxyyzz').\n",
        "\n",
        "Os valores xx, yy e zz são a intensidade do vermelho, verde e azul, e podem variar de 00 a FF (código hexadecimal -cada dígito pode ter valor 0, 1, 2, 3, 4, 5, 6, 7, 8, 9, A, B, C, D, E, F).\n",
        "\n",
        "O laranja, por exemplo, é '#FF7F50'.<br>\n",
        "Alguns tons de cinza: [escuro - '#555555'] ; [médio - '#7F7F7F'] ; [claro - '#B0B0B0']\n",
        "\n",
        "Na célula abaixo, teste algumas cores.\n",
        "\n",
        "**GRÁFICO 5**\n"
      ]
    },
    {
      "cell_type": "code",
      "execution_count": 5,
      "metadata": {
        "colab": {
          "base_uri": "https://localhost:8080/",
          "height": 282
        },
        "id": "x_zjq1CHV_JG",
        "outputId": "161eee76-5d49-45cd-add4-83a9e3b1c802"
      },
      "outputs": [
        {
          "name": "stdout",
          "output_type": "stream",
          "text": [
            "barras horizontais\n"
          ]
        },
        {
          "data": {
            "image/png": "[encoded data removed]",
            "text/plain": [
              "<Figure size 432x288 with 1 Axes>"
            ]
          },
          "metadata": {
            "needs_background": "light"
          },
          "output_type": "display_data"
        }
      ],
      "source": [
        "# **GRÁFICO 5**\n",
        "\n",
        "import matplotlib.pyplot as plt\n",
        "\n",
        "data = [5., 25., 50., 20.]\n",
        "\n",
        "print(\"barras horizontais\")\n",
        "plt.barh(range(len(data)), data, color='#FF7F50')\n",
        "plt.show()"
      ]
    },
    {
      "cell_type": "markdown",
      "metadata": {
        "id": "9VROR4doV_JK"
      },
      "source": [
        "Com poucas alterações, é possível imprimir um gráfico de múltiplas barras, com legenda, título, cores, etc.\n",
        "\n",
        "Observe que **cada cor de barra é uma linha do array *dados*** \n",
        "\n",
        "**GRÁFICO 6**"
      ]
    },
    {
      "cell_type": "code",
      "execution_count": 15,
      "metadata": {
        "colab": {
          "base_uri": "https://localhost:8080/",
          "height": 403
        },
        "id": "p382glvCV_JL",
        "outputId": "ce9477d9-06b3-4180-9583-8164005ab5ef",
        "scrolled": false
      },
      "outputs": [
        {
          "data": {
            "image/png": "[encoded data removed]",
            "text/plain": [
              "<Figure size 864x432 with 1 Axes>"
            ]
          },
          "metadata": {
            "needs_background": "light"
          },
          "output_type": "display_data"
        }
      ],
      "source": [
        "# **GRÁFICO 6**\n",
        "\n",
        "import numpy as np\n",
        "import matplotlib\n",
        "import matplotlib.pyplot as plt\n",
        "\n",
        "\n",
        "colunas = ['2013', '2014', '2015', '2016']\n",
        "\n",
        "dados = np.array([[5., 7., 9., 8.],\n",
        "  [14., 20., 23., 27.],\n",
        "  [25., 22., 15., 12.],\n",
        "  [25., 22., 15., 12.]], dtype=np.float64)\n",
        "\n",
        "X = np.arange(4)\n",
        "\n",
        "# plt.bar( coordenada X, coordenada Y, cor, comprimento da barra)\n",
        "plt.bar(X + 0.00, dados[0], color = 'b', width = 0.267)\n",
        "plt.bar(X + 0.267, dados[1], color = 'g', width = 0.267)\n",
        "plt.bar(X + 0.533, dados[2], color = '#FF7F50', width = 0.267)\n",
        "plt.bar(X + 0.933, dados[3], color = '#F23250', width = 0.267)\n",
        "\n",
        "plt.xlabel('rótulo do eixo x')\n",
        "plt.ylabel('rótulo do eixo y')\n",
        "plt.title('gráfico de multiplas barras')\n",
        "plt.legend(['Legenda 1', 'Legenda 2', 'Legenda 3', 'legenda 4'])\n",
        "plt.xticks(np.arange(0, 4)+0.25, colunas)\n",
        "\n",
        "fig = matplotlib.pyplot.gcf()\n",
        "fig.set_size_inches(12, 6)\n",
        "\n",
        "plt.show()\n"
      ]
    },
    {
      "cell_type": "markdown",
      "metadata": {
        "id": "ejJ0apdmV_JN"
      },
      "source": [
        "O código abaixo exibe o mesmo conteúdo do **GRÁFICO 6**, mas no entanto imprime as barras dentro de um loop *for*.\n",
        "\n",
        "Observe atentamente as alterações.\n",
        "\n",
        "**GRÁFICO 7**"
      ]
    },
    {
      "cell_type": "code",
      "execution_count": 14,
      "metadata": {
        "colab": {
          "base_uri": "https://localhost:8080/",
          "height": 403
        },
        "id": "fJIljYT3V_JO",
        "outputId": "d229995d-f56d-469c-de14-28d142d96c94",
        "scrolled": true
      },
      "outputs": [
        {
          "data": {
            "image/png": "[encoded data removed]",
            "text/plain": [
              "<Figure size 864x432 with 1 Axes>"
            ]
          },
          "metadata": {
            "needs_background": "light"
          },
          "output_type": "display_data"
        }
      ],
      "source": [
        "# **GRÁFICO 7**\n",
        "\n",
        "import numpy as np\n",
        "import matplotlib\n",
        "import matplotlib.pyplot as plt\n",
        "\n",
        "colunas = ['2013', '2014', '2015', '2016']\n",
        "\n",
        "dados = np.array([[5., 7., 9., 8.],\n",
        "  [14., 20., 23., 27.],\n",
        "  [25., 22., 15., 12.]], dtype=np.float64)\n",
        "\n",
        "# alteração 1 - X depende do número de colunas de dados\n",
        "# então, em vez de colocar uma constante 4, usamos dados.shape[1]\n",
        "X = np.arange(dados.shape[1])\n",
        "\n",
        "# alteração 2 - podemos colocar as cores em uma lista\n",
        "cores = ['b', 'g', '#FF7F50']\n",
        "\n",
        "# alteração 3 - o número de barras corresponde ao número de linhas do array dados\n",
        "# assim, as barras podem ser impressas em um for (usando dados.shape[0])\n",
        "# no gráfico atual, escolhemos o width=0.267 porque existem 3 barras, assim as\n",
        "# 3 barras ocupam 80% do espaço e os outros 20% ficam livres separando um conjunto\n",
        "# de barras do outro. Essa divisão pode ser feita automaticamente\n",
        "compr = 0.8/(dados.shape[0])\n",
        "for i in range(0, dados.shape[0]):\n",
        "    plt.bar(X + compr*i, dados[i], color = cores[i], width = compr)\n",
        "\n",
        "plt.xlabel('rótulo do eixo x')\n",
        "plt.ylabel('rótulo do eixo y')\n",
        "plt.title('gráfico de multiplas barras')\n",
        "plt.legend(['Legenda 1', 'Legenda 2', 'Legenda 3'])\n",
        "# alteração 4 - legenda dos grupos de barras depende no número de colunas\n",
        "plt.xticks(np.arange(0, len(colunas))+0.25, colunas)\n",
        "\n",
        "fig = matplotlib.pyplot.gcf()\n",
        "fig.set_size_inches(12, 6)\n",
        "\n",
        "plt.show()"
      ]
    },
    {
      "cell_type": "markdown",
      "metadata": {
        "id": "2rRPykc9V_JQ"
      },
      "source": [
        "**Exercício 5**\n",
        "\n",
        "Altere o código abaixo para incluir o ano de 2017: \n",
        "    * alterar colunas\n",
        "    * alterar dados: (incluir valores de 2017 na última coluna de cada linha)\n",
        "    \n",
        "Crie também mais uma barra, de cor vermelha 'r':\n",
        "    * altere *dados*: incluir mais uma linha\n",
        "    * altere *cores*\n",
        "    * e altere a legenda: incluindo 'Nova legenda'\n"
      ]
    },
    {
      "cell_type": "code",
      "execution_count": 18,
      "metadata": {
        "colab": {
          "base_uri": "https://localhost:8080/",
          "height": 403
        },
        "id": "2lq2ScxZV_JQ",
        "outputId": "5007ce0e-1164-4f3d-9269-290bbf7c7c83"
      },
      "outputs": [
        {
          "data": {
            "image/png": "[encoded data removed]",
            "text/plain": [
              "<Figure size 864x432 with 1 Axes>"
            ]
          },
          "metadata": {
            "needs_background": "light"
          },
          "output_type": "display_data"
        }
      ],
      "source": [
        "# Exercício 5 - altere o código abaixo conforme instruções\n",
        "\n",
        "import numpy as np\n",
        "import matplotlib\n",
        "import matplotlib.pyplot as plt\n",
        "\n",
        "# >>>> inclua nova coluna\n",
        "colunas = ['2013', '2014', '2015', '2016', '2017']\n",
        "\n",
        "# >>>> altere dados\n",
        "dados = np.array([[5., 7., 9., 8., 10.],\n",
        "  [14., 20., 23., 27., 30.],\n",
        "  [25., 22., 15., 12., 18. ]], dtype=np.float64)\n",
        "\n",
        "X = np.arange(dados.shape[1])\n",
        "\n",
        "# >>>> inclua nova cor\n",
        "cores = ['b', 'g', '#FF7F50', 'r']\n",
        "\n",
        "compr = 0.8/(dados.shape[0])\n",
        "for i in range(0, dados.shape[0]):\n",
        "    plt.bar(X + compr*i, dados[i], color = cores[i], width = compr)\n",
        "\n",
        "plt.xlabel('rótulo do eixo x')\n",
        "plt.ylabel('rótulo do eixo y')\n",
        "plt.title('gráfico de multiplas barras')\n",
        "# >>>> inclua nova legenda\n",
        "plt.legend(['Legenda 1', 'Legenda 2', 'Legenda 3', 'legenda 4'])\n",
        "plt.xticks(np.arange(0, len(colunas))+0.25, colunas)\n",
        "\n",
        "fig = matplotlib.pyplot.gcf()\n",
        "fig.set_size_inches(12, 6)\n",
        "\n",
        "plt.show()"
      ]
    },
    {
      "cell_type": "markdown",
      "metadata": {
        "id": "XwP1sKHXV_JS"
      },
      "source": [
        "Uma outra forma de representar os dados do GRÁFICO 7 exibido acima é com pontos.\n",
        "\n",
        "**Observe** o resultado da instrução *plt.ylim((0, 50))*.\n",
        "\n",
        "Neste exemplo utilizamos estilos de linhas diferentes (para fins didáticos). A depender da situação você pode escolher não usar linhas (basta remover o parâmetro linestyle ou usar todas linhas do mesmo tipo,\n",
        "\n",
        "Utilizamos 3 marcadores diferentes. Uma lista de marcadores está disponível na documentação do matplotlib: [clique aqui para verificar](https://matplotlib.org/api/markers_api.html)\n",
        "\n",
        "Alguns valores comuns são:<br>\n",
        "\"o\"\tcircle<br>\n",
        "\"v\"\ttriangle_down<br>\n",
        "\"^\"\ttriangle_up<br>\n",
        "\"<\"\ttriangle_left<br>\n",
        "\"s\"\tsquare<br>\n",
        "\"p\"\tpentagon<br>\n",
        "\"P\"\tplus (filled)<br>\n",
        "\"\\*\"\tstar<br>\n",
        "\"h\"\thexagon1<br>\n",
        "\"H\"\thexagon2<br>\n",
        "\"+\"\tplus<br>\n",
        "\"x\"\tx<br>\n",
        "\"X\"\tx (filled)<br>\n",
        "\"D\"\tdiamond<br>\n",
        "\"d\"\tthin_diamond<br>\n",
        "\n",
        "**GRÁFICO 8**"
      ]
    },
    {
      "cell_type": "code",
      "execution_count": 19,
      "metadata": {
        "colab": {
          "base_uri": "https://localhost:8080/",
          "height": 403
        },
        "id": "kkAILIsnV_JT",
        "outputId": "e648bf27-5c01-4826-f04f-caba5f64e2d0"
      },
      "outputs": [
        {
          "data": {
            "image/png": "[encoded data removed]",
            "text/plain": [
              "<Figure size 864x432 with 1 Axes>"
            ]
          },
          "metadata": {
            "needs_background": "light"
          },
          "output_type": "display_data"
        }
      ],
      "source": [
        "# **GRÁFICO 8**\n",
        "\n",
        "import numpy as np\n",
        "import matplotlib\n",
        "import matplotlib.pyplot as plt\n",
        "\n",
        "colunas = ['2013', '2014', '2015', '2016']\n",
        "\n",
        "dados = np.array([[5., 7., 9., 8.],\n",
        "  [14., 20., 23., 27.],\n",
        "  [25., 22., 15., 12.]], dtype=np.float64)\n",
        "\n",
        "X = np.arange(dados.shape[1])\n",
        "\n",
        "cores = ['b', 'g', '#FF7F50']\n",
        "\n",
        "# precisamos especificar os marcadores e as linhas de cada linha de dados\n",
        "marcadores = ['s', 'o', 'v']\n",
        "linhas = ['--', ':', '-.']\n",
        "for i in range(0, dados.shape[0]):\n",
        "    plt.plot(X, dados[i], marker=marcadores[i], linestyle=linhas[i], color=cores[i])\n",
        "\n",
        "# função ylim\n",
        "plt.ylim((0, 50))\n",
        "\n",
        "plt.xlabel('rótulo do eixo x')\n",
        "plt.ylabel('rótulo do eixo y')\n",
        "plt.title('gráfico de pontos')\n",
        "plt.legend(['Legenda 1', 'Legenda 2', 'Legenda 3'])\n",
        "\n",
        "# mudamos a posição do xtick para coincidir com o ponto\n",
        "plt.xticks(np.arange(0, len(colunas)), colunas)\n",
        "\n",
        "fig = matplotlib.pyplot.gcf()\n",
        "fig.set_size_inches(12, 6)\n",
        "\n",
        "plt.show()"
      ]
    },
    {
      "cell_type": "markdown",
      "metadata": {
        "id": "jq9EXuVjV_JV"
      },
      "source": [
        "Também é possível desenhar gráficos de barras empilhadas (*stacked bar charts*).\n",
        "\n",
        "**GRÁFICO 9**"
      ]
    },
    {
      "cell_type": "code",
      "execution_count": 20,
      "metadata": {
        "colab": {
          "base_uri": "https://localhost:8080/",
          "height": 403
        },
        "id": "dAex5-t2V_JW",
        "outputId": "69f3260a-934c-4fa9-e1da-1cae7d35e28f",
        "scrolled": true
      },
      "outputs": [
        {
          "data": {
            "image/png": "[encoded data removed]",
            "text/plain": [
              "<Figure size 720x432 with 1 Axes>"
            ]
          },
          "metadata": {
            "needs_background": "light"
          },
          "output_type": "display_data"
        }
      ],
      "source": [
        "# **GRÁFICO 9**\n",
        "\n",
        "import matplotlib.pyplot as plt\n",
        "import matplotlib\n",
        "\n",
        "A = [5., 30., 45., 17.]\n",
        "B = [5., 25., 50., 55.]\n",
        "\n",
        "X = range(4)\n",
        "\n",
        "plt.bar(X, A, color = 'b')\n",
        "plt.bar(X, B, color = 'y', bottom = A)\n",
        "\n",
        "plt.xlabel('rótulo do eixo x')\n",
        "plt.ylabel('rótulo do eixo y')\n",
        "plt.title('gráfico de barras empilhadas')\n",
        "plt.legend(['Azul', 'Amarelo'])\n",
        "\n",
        "# os 2 comandos abaixo ajustam o tamanho do gráfico exibido\n",
        "fig = matplotlib.pyplot.gcf()\n",
        "fig.set_size_inches(10, 6)\n",
        "\n",
        "plt.show()"
      ]
    },
    {
      "cell_type": "markdown",
      "metadata": {
        "id": "I1aKqBezV_JY"
      },
      "source": [
        "O exemplo abaixo possui 3 barras empilhadas.\n",
        "\n",
        "**GRÁFICO 10**"
      ]
    },
    {
      "cell_type": "code",
      "execution_count": 21,
      "metadata": {
        "colab": {
          "base_uri": "https://localhost:8080/",
          "height": 511
        },
        "id": "fuczSdgzV_JZ",
        "outputId": "0f5dd2af-b3c6-4abf-96bd-73094c119fba"
      },
      "outputs": [
        {
          "data": {
            "image/png": "[encoded data removed]",
            "text/plain": [
              "<Figure size 720x576 with 1 Axes>"
            ]
          },
          "metadata": {
            "needs_background": "light"
          },
          "output_type": "display_data"
        }
      ],
      "source": [
        "# **GRÁFICO 10** \n",
        "\n",
        "import numpy as np\n",
        "import matplotlib\n",
        "import matplotlib.pyplot as plt\n",
        "\n",
        "# Dados armazenados num array do numpy\n",
        "data = np.array([[5., 30., 45., 22.],\n",
        "                 [5., 25., 50., 20.],\n",
        "                 [61.,  12.,  1.,  1.]])\n",
        "\n",
        "# lista de cores\n",
        "color_list = ['b', 'g', 'y']\n",
        "\n",
        "X = np.arange(data.shape[1]) # equivale a X = np.array([0, 1, 2, 3])\n",
        "\n",
        "# o for plota as 3 barras \n",
        "for i in range(data.shape[0]):\n",
        "  plt.bar(X, data[i],\n",
        "    bottom = np.sum(data[:i], axis = 0),\n",
        "    color = color_list[i % len(color_list)])\n",
        "\n",
        "plt.xlabel('rótulo do eixo x')\n",
        "plt.ylabel('rótulo do eixo y')\n",
        "plt.title('gráfico de barras empilhadas')\n",
        "plt.legend(['Azul', 'Verde', 'Amarelo'])\n",
        "\n",
        "# os 2 comandos abaixo ajustam o tamanho do gráfico exibido\n",
        "fig = matplotlib.pyplot.gcf()\n",
        "fig.set_size_inches(10, 8)\n",
        "\n",
        "plt.show()"
      ]
    },
    {
      "cell_type": "markdown",
      "metadata": {
        "id": "y4eN29irV_Jc"
      },
      "source": [
        "No exemplo abaixo, usamos o numpy para ler os resultados de um experimento usando 5 métodos distintos.\n",
        "\n",
        "O arquivo dados.csv contém resultados de 5 métodos testados em um experimento (um em cada linha).<br>\n",
        "Cada linha do arquivo dados.csv contém 11 resultados de um método testado. Os valores estão separados por vírgula.<br>\n",
        "\n",
        "88.5,88.4,88.4,88.5,89.0,86.4,88.4,89.1,88.9,86.4,87.2<br>\n",
        "85.7,85.7,85.7,85.7,85.7,85.7,85.7,85.7,85.7,85.7,85.7<br>\n",
        "84.5,88.9,88.9,86.2,86.8,85.3,87.9,87.3,88.9,84.6,87.2<br>\n",
        "86.5,85.4,87.6,84.9,87.3,88.5,86.7,85.4,85.8,88.3,87.2<br>\n",
        "87.5,89.4,86.5,82.4,89.1,86.8,87.4,88.5,88.9,88.9,87.2<br>\n",
        "\n",
        "**GRÁFICO 11**"
      ]
    },
    {
      "cell_type": "code",
      "execution_count": 22,
      "metadata": {
        "colab": {
          "base_uri": "https://localhost:8080/",
          "height": 403
        },
        "id": "VmaN3KOwV_Jd",
        "outputId": "13936108-5747-4f47-c0eb-ca4f5db2b342",
        "scrolled": true
      },
      "outputs": [
        {
          "data": {
            "image/png": "[encoded data removed]",
            "text/plain": [
              "<Figure size 720x432 with 1 Axes>"
            ]
          },
          "metadata": {
            "needs_background": "light"
          },
          "output_type": "display_data"
        }
      ],
      "source": [
        "# **GRÁFICO 11**\n",
        "\n",
        "import numpy as np\n",
        "import matplotlib\n",
        "import matplotlib.pyplot as plt\n",
        "\n",
        "arr = np.loadtxt('dados.csv',delimiter=',',dtype=np.float64)\n",
        "\n",
        "X = np.arange(5)\n",
        "\n",
        "cores = ['r', 'g', 'b', 'y', 'c']\n",
        "\n",
        "for i in range(0, 5):\n",
        "    # plt.bar( coordenada X, coordenada Y, cor, comprimento da barra)\n",
        "    plt.bar(X[i] + 0.2, np.average( arr[i,:] ), color=cores[i], width = 0.6)\n",
        "    \n",
        "plt.ylim((0,119))\n",
        "plt.xlim=((0,7))\n",
        "plt.xlabel('rótulo do eixo x')\n",
        "plt.ylabel('rótulo do eixo y')\n",
        "plt.title('gráfico de barras')\n",
        "plt.legend(['Método 1', 'Método 2', 'Método 3', 'Método 4', 'Método 5'])\n",
        "\n",
        "\n",
        "# os 2 comandos abaixo ajustam o tamanho do gráfico exibido\n",
        "fig = matplotlib.pyplot.gcf()\n",
        "fig.set_size_inches(10, 6)\n",
        "\n",
        "plt.show()\n"
      ]
    },
    {
      "cell_type": "markdown",
      "metadata": {
        "id": "Pp6zcEPVV_Jf"
      },
      "source": [
        "O numpy fornece uma função para plotar histogramas. \n",
        "\n",
        "O parêmetro bins indica o número de divisões dos valores fornecidos para a função.\n",
        "\n",
        "A função hist recebe como entrada uma lista de valores e **a faixa** dos valores é dividida igualmente pelo número de bins informado. \n",
        "\n",
        "O gráfico gerado terá uma barra para cada bin. A altura de cada barra é o número de valores correspondente a cada bin.\n",
        "\n",
        "**GRÁFICO 12**"
      ]
    },
    {
      "cell_type": "code",
      "execution_count": 24,
      "metadata": {
        "colab": {
          "base_uri": "https://localhost:8080/",
          "height": 265
        },
        "id": "1GpEhUC-V_Jg",
        "outputId": "5774f842-2e8e-4079-d672-923774c52ca6",
        "scrolled": false
      },
      "outputs": [
        {
          "data": {
            "image/png": "[encoded data removed]",
            "text/plain": [
              "<Figure size 432x288 with 1 Axes>"
            ]
          },
          "metadata": {
            "needs_background": "light"
          },
          "output_type": "display_data"
        }
      ],
      "source": [
        "# **GRÁFICO 12**\n",
        "\n",
        "import numpy as np\n",
        "import matplotlib.pyplot as plt\n",
        "\n",
        "# observe que o não existe nenhum valor 5.\n",
        "# os valores não precisariam estar ordenados - na lista abaixo isso\n",
        "# é feito apenas para fins didáticos\n",
        "X = np.array([0., 0., 1., 1., 1., 2., 2., 3.,\n",
        "              4., 6., 7., 7., 7., 7., 7., 7., 7., 7., 7., 7., 7.,\n",
        "              8., 8., 8., 9.,9., 9., 9., 9., 9., 9., 9., 9., 9.,])\n",
        "\n",
        "plt.hist(X, bins = 10)\n",
        "\n",
        "plt.show()"
      ]
    },
    {
      "cell_type": "markdown",
      "metadata": {
        "id": "GbpwX3pZV_Ji"
      },
      "source": [
        "\n",
        "Se informássemos o número de bins igual a 5, a função automaticamente agregaria os valores\n",
        "0-1, 2-3, 4-5, 6-7, 8-9\n",
        "\n",
        "**GRÁFICO 13**"
      ]
    },
    {
      "cell_type": "code",
      "execution_count": 27,
      "metadata": {
        "colab": {
          "base_uri": "https://localhost:8080/",
          "height": 265
        },
        "id": "b1F2CVo_V_Jj",
        "outputId": "4e0c4f50-de36-4375-a664-76c19ac6cc0c"
      },
      "outputs": [
        {
          "data": {
            "image/png": "[encoded data removed]",
            "text/plain": [
              "<Figure size 432x288 with 1 Axes>"
            ]
          },
          "metadata": {
            "needs_background": "light"
          },
          "output_type": "display_data"
        }
      ],
      "source": [
        "# **GRÁFICO 13**\n",
        "\n",
        "import numpy as np\n",
        "import matplotlib.pyplot as plt\n",
        "\n",
        "X = np.array([0., 0., 1., 1., 1., 2., 2., 3.,\n",
        "              4., 6., 7., 7., 7., 7., 7., 7., 7., 7., 7., 7., 7.,\n",
        "              8., 8., 8., 9.])\n",
        "\n",
        "# a única mudança desse gráfico em relação ao 12 é que informamos o número de bins igual a 5\n",
        "plt.hist(X, bins = 6)\n",
        "\n",
        "plt.show()"
      ]
    },
    {
      "cell_type": "markdown",
      "metadata": {
        "id": "QxaPYRuQV_Jk"
      },
      "source": [
        "Por fim, vamos exemplificar um gráfico de dispersão (*scatterplot*) simples.\n",
        "\n",
        "**GRÁFICO 14**\n"
      ]
    },
    {
      "cell_type": "code",
      "execution_count": 28,
      "metadata": {
        "colab": {
          "base_uri": "https://localhost:8080/",
          "height": 388
        },
        "id": "XH0GZAAXV_Jl",
        "outputId": "f028d448-9d75-4afb-ccce-54f499e6c6ea",
        "scrolled": false
      },
      "outputs": [
        {
          "data": {
            "image/png": "[encoded data removed]",
            "text/plain": [
              "<Figure size 720x432 with 1 Axes>"
            ]
          },
          "metadata": {
            "needs_background": "light"
          },
          "output_type": "display_data"
        }
      ],
      "source": [
        "# ** GRÁFICO 14 **\n",
        "\n",
        "import numpy as np\n",
        "import matplotlib\n",
        "import matplotlib.pyplot as plt\n",
        "\n",
        "num_points = 100\n",
        "gradient = 0.5\n",
        "x = np.array(range(num_points))\n",
        "# dados gerados aleatoriamente, para exemplificar\n",
        "y = np.random.randn(num_points) * 10 + x*gradient\n",
        "\n",
        "fig = matplotlib.pyplot.gcf()\n",
        "fig.set_size_inches(10, 6)\n",
        "plt.title('Um gráfico de dispersão simples')\n",
        "\n",
        "sc =plt.scatter(x, y)\n",
        "\n",
        "plt.show()"
      ]
    },
    {
      "cell_type": "markdown",
      "metadata": {
        "id": "h_s55VYxV_Jn"
      },
      "source": [
        "As cores e o tamanho dos pontos podem ser customizados.\n",
        "\n",
        "Você pode escolher um mapa de cor com a instução:\n",
        "```python\n",
        "plt.rcParams['image.cmap'] = 'viridis'\n",
        "```\n",
        "\n",
        "Existem diversos mapas de cores diponíveis: 'viridis', 'plasma', 'inferno', 'magma', 'gray', dentre outros.\n",
        "\n",
        "** GRÁFICO 15 **"
      ]
    },
    {
      "cell_type": "code",
      "execution_count": 29,
      "metadata": {
        "colab": {
          "base_uri": "https://localhost:8080/",
          "height": 388
        },
        "id": "dlpa0MjzV_Jn",
        "outputId": "ea2b8936-0053-41a8-ac7d-206b088546b9"
      },
      "outputs": [
        {
          "data": {
            "image/png": "[encoded data removed]",
            "text/plain": [
              "<Figure size 720x432 with 1 Axes>"
            ]
          },
          "metadata": {
            "needs_background": "light"
          },
          "output_type": "display_data"
        }
      ],
      "source": [
        "# ** GRÁFICO 15 **\n",
        "\n",
        "import numpy as np\n",
        "import matplotlib\n",
        "import matplotlib.pyplot as plt\n",
        "\n",
        "num_points = 100\n",
        "gradient = 0.5\n",
        "x = np.array(range(num_points))\n",
        "# dados gerados aleatoriamente, para exemplificar\n",
        "y = np.random.randn(num_points) * 10 + x*gradient\n",
        "\n",
        "fig = matplotlib.pyplot.gcf()\n",
        "fig.set_size_inches(10, 6)\n",
        "plt.title('Um gráfico de dispersão com cores e tamanho variados')\n",
        "\n",
        "# escolhe o mapa de cores 'viridis'\n",
        "plt.rcParams['image.cmap'] = 'viridis'\n",
        "\n",
        "# cores geradas aleatoriamente: função produz 100 cores randômicas do mapa de cores padrão\n",
        "colors = np.random.rand(num_points)\n",
        "\n",
        "# definimos o tamanho dos marcadores: (2 + pontos*8)²\n",
        "size = (2 + np.random.rand(num_points) * 8) ** 2\n",
        "\n",
        "sc =plt.scatter(x, y, s=size, c=colors, alpha=0.5)\n",
        "\n",
        "plt.show()"
      ]
    },
    {
      "cell_type": "markdown",
      "metadata": {
        "id": "oApEbO5eV_Jr"
      },
      "source": [
        "# Aproveitem o conhecimento !"
      ]
    }
  ],
  "metadata": {
    "colab": {
      "collapsed_sections": [
        "nA2y4pLrV_G2",
        "oApEbO5eV_Jr"
      ],
      "name": "11_numpy_matplotlib.ipynb",
      "provenance": []
    },
    "kernelspec": {
      "display_name": "Python 3.8.10 64-bit",
      "language": "python",
      "name": "python3"
    },
    "language_info": {
      "codemirror_mode": {
        "name": "ipython",
        "version": 3
      },
      "file_extension": ".py",
      "mimetype": "text/x-python",
      "name": "python",
      "nbconvert_exporter": "python",
      "pygments_lexer": "ipython3",
      "version": "3.8.10"
    },
    "vscode": {
      "interpreter": {
        "hash": "916dbcbb3f70747c44a77c7bcd40155683ae19c65e1c03b4aa3499c5328201f1"
      }
    }
  },
  "nbformat": 4,
  "nbformat_minor": 0
}
