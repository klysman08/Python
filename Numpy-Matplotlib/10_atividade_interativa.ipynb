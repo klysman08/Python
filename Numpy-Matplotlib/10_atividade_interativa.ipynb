{
 "cells": [
  {
   "cell_type": "markdown",
   "metadata": {
    "colab_type": "text",
    "id": "LK_lhZCZdSeN"
   },
   "source": [
    "<b>\n",
    "<br>\n",
    "<font size=\"5\"><p style=\"text-align: center;\">Introdução à Programação de Computadores</p></font>\n",
    "<br>\n",
    "<font size=\"5\"><p style=\"text-align: center;\">Atividade Interativa #10</p></font>\n",
    "</b>\n",
    "<br><br>\n",
    "<font size=\"4\"><b>Professores:</b>\n",
    "<br>\n",
    "Cristiano Rodrigues\n",
    "<br>\n",
    "Matheus Pereira\n",
    "<br>\n",
    "Jefersson A. dos Santos - jefersson@dcc.ufmg.br\n",
    "<br><br>\n",
    "</font>\n",
    "<hr>\n",
    "<br>\n",
    "<font size=\"3\">\n",
    "</font>\n",
    "\n",
    "# Estatísticas sobre gastos parlamentares \n",
    "------------------\n",
    "\n",
    "# 1. Introdução\n",
    "\n",
    "---------------\n",
    "\n",
    "A Cota para o Exercício da Atividade Parlamentar – CEAP (antiga verba indenizatória) é uma cota única mensal destinada a custear os gastos dos deputados exclusivamente vinculados ao exercício da atividade parlamentar.\n",
    "\n",
    "Nessa atividade prática você deverá implementar uma série de funções para geração de gráficos sobre os gastos parlamentares utilizando os dados publicamente disponíveis sobre as despesas do [CEAP](https://dadosabertos.camara.leg.br/swagger/api.html \"Arquivos - Despesas pela Cota para Exercício da Atividade Parlamentar\"). \n",
    "\n",
    "\n",
    "Você pode baixar os arquivos CSV do [site](https://dadosabertos.camara.leg.br/swagger/api.html) para a pasta **dados_parlamento** dentro do diretório onde se encontra o seu notebook (arquivo com extensão ipynb)\n",
    "\n",
    "Não altere o nome dos arquivos:\n",
    "* Ano-2009.csv\n",
    "* Ano-2010.csv\n",
    "* Ano-2011.csv\n",
    "* Ano-2012.csv\n",
    "* Ano-2013.csv\n",
    "* Ano-2014.csv\n",
    "* Ano-2015.csv\n",
    "* Ano-2016.csv\n",
    "* Ano-2017.csv\n",
    "\n",
    "As suas funções para leitura dos arquivos devem utilizar caminhos relativos.<br>\n",
    "Ou seja, para a leitura dos dados do arquivo Ano-2009.csv, por exemplo, o nome do arquivo passado para a função *open* deve ser \"dados_parlamento/Ano-2009.csv\". \n",
    "\n",
    "Não utilizar o caminho absoluto (por exemplo \"C:\\usuarios\\m1011\\documents\\tp2\\dados_parlamento\\Ano-2009.csv\") pois isso provavelmente impedirá que seu trabalho funcione em outra máquina além da sua.\n",
    "\n",
    "# 2. O que deve ser feito\n",
    "---------------\n",
    "\n",
    "Para manipulação dos dados, você deverá implementar pelo menos (sendo permitida a implementação de outras funções, caso necessário):\n",
    "<ol>\n",
    "<li>Uma função para leitura dos dados. **Atenção:** (1) Observe que os dados estão codificados em formato UTF-8; (2) Observe que os arquivos são grandes. Talvez não seja uma boa ideia ler tudo e colocar em uma única lista. **FEITO!**</li>\n",
    "<li>Uma função que retorna uma lista com os gastos totais da Câmara dos Deputados em um intervalo ('ano início' até 'ano fim').</li>\n",
    "<li>Uma função que retorna uma lista com os gastos totais de todos os parlamentares em um ano específico.</li>\n",
    "<li>Uma função que retorna os gastos médios totais dos parlamentares por partido para um ano específico.</li>\n",
    "<li>Uma função que retorna os gastos médios totais dos parlamentares por estado para um ano específico.</li>\n",
    "</ol>\n",
    "\n",
    "As funções deverão ser utilizadas para plotar:\n",
    "<ol>\n",
    "<li>Um gráfico ilustrando a evolução dos gastos das cotas da Câmara dos Deputados entre 2009 e 2019.</li>\n",
    "<li>Um histograma mostrando o total dos 20 parlamentares que mais gastaram em 2019.</li>\n",
    "<li>Um histograma por partido, mostrando os gastos médios de seus parlamentares no ano de 2019.</li>\n",
    "<li>Um histograma por estado, mostrando os gastos médios de seus parlamentares ano de 2019.</li>\n",
    "</ol>\n",
    "\n",
    "No final, você deverá utilizar os gráficos para responder as seguintes perguntas:\n",
    "<ol>\n",
    "<li>Houve alguma redução nos gastos com o CEAP nos últimos anos em que o país vive uma crise de arrecadação?</li>\n",
    "<li>Quais os parlamentares mais caros no exercício de 2019?</li>\n",
    "<li>Quais os partidos que, na média, mais \"custam\" para o Brasil em termos de auxílios a parlamentares?</li>\n",
    "<li>Quais os estados, na média, mais \"custam\" para o Brasil em termos de auxílios a parlamentares? Pelas regras de liberação dos auxílios para viagem, o esperado é que os estados mais distantes do DF custem mais. </li>\n",
    "</ol>\n",
    "\n",
    "\n"
   ]
  },
  {
   "cell_type": "code",
   "execution_count": null,
   "metadata": {
    "colab": {},
    "colab_type": "code",
    "id": "KQThUqEmdSee",
    "scrolled": false
   },
   "outputs": [],
   "source": [
    "# Criando a pasta\n",
    "!mkdir dados_parlamentares\n",
    "\n",
    "# Baixando os dados de 2019\n",
    "!wget http://www.camara.leg.br/cotas/Ano-2019.csv.zip\n",
    "!wget http://www.camara.leg.br/cotas/Ano-2018.csv.zip\n",
    "!wget http://www.camara.leg.br/cotas/Ano-2017.csv.zip\n",
    "!wget http://www.camara.leg.br/cotas/Ano-2016.csv.zip\n",
    "!wget http://www.camara.leg.br/cotas/Ano-2015.csv.zip\n",
    "!wget http://www.camara.leg.br/cotas/Ano-2014.csv.zip\n",
    "!wget http://www.camara.leg.br/cotas/Ano-2013.csv.zip\n",
    "!wget http://www.camara.leg.br/cotas/Ano-2012.csv.zip\n",
    "!wget http://www.camara.leg.br/cotas/Ano-2011.csv.zip\n",
    "!wget http://www.camara.leg.br/cotas/Ano-2010.csv.zip\n",
    "!wget http://www.camara.leg.br/cotas/Ano-2009.csv.zip\n",
    "\n",
    "!unzip Ano-2019.csv.zip\n",
    "!unzip Ano-2018.csv.zip\n",
    "!unzip Ano-2017.csv.zip\n",
    "!unzip Ano-2016.csv.zip\n",
    "!unzip Ano-2015.csv.zip\n",
    "!unzip Ano-2014.csv.zip\n",
    "!unzip Ano-2013.csv.zip\n",
    "!unzip Ano-2012.csv.zip\n",
    "!unzip Ano-2011.csv.zip\n",
    "!unzip Ano-2010.csv.zip\n",
    "!unzip Ano-2009.csv.zip\n",
    "\n",
    "!mv *.csv dados_parlamentares/\n"
   ]
  },
  {
   "cell_type": "code",
   "execution_count": 3,
   "metadata": {
    "colab": {},
    "colab_type": "code",
    "id": "tWCQFPNCdSeU"
   },
   "outputs": [
    {
     "name": "stdout",
     "output_type": "stream",
     "text": [
      "['\\ufefftxNomeParlamentar', 'cpf', 'ideCadastro', 'nuCarteiraParlamentar', 'nuLegislatura', 'sgUF', 'sgPartido', 'codLegislatura', 'numSubCota', 'txtDescricao', 'numEspecificacaoSubCota', 'txtDescricaoEspecificacao', 'txtFornecedor', 'txtCNPJCPF', 'txtNumero', 'indTipoDocumento', 'datEmissao', 'vlrDocumento', 'vlrGlosa', 'vlrLiquido', 'numMes', 'numAno', 'numParcela', 'txtPassageiro', 'txtTrecho', 'numLote', 'numRessarcimento', 'vlrRestituicao', 'nuDeputadoId', 'ideDocumento', 'urlDocumento'] \n",
      "\n",
      "Nome do parlamentar:  LID.GOV-CD\n",
      "Número total de registros: 289399\n",
      "\n"
     ]
    }
   ],
   "source": [
    "# Funcao que le os dados de um arquivo CSV e retorna a lista de rótulos (nome das colunas) e os dados.\n",
    "# Estamos levando em consideracao que todos os dados do arquivo cabem na memória do computador.\n",
    "def le_dados(filename):\n",
    "    # Abrindo o arquivo. \n",
    "    # Utilizamos o parametro 'encoding' para indicar que o arquivo possui uma codificacao especifica. \n",
    "    # Isso garante que os acentos e caracteres especiais sejam lidos adequadamente.\n",
    "    #file = open(filename, 'r', encoding='ISO-8859-1')\n",
    "    file = open(filename, 'r', encoding='UTF-8')\n",
    "    \n",
    "    # Criando uma lista vazia para armazenar todos os dados do arquivo\n",
    "    dados = []\n",
    "    \n",
    "    # Para cada linha do arquivo, realizamos as seguintes operacoes: \n",
    "    # (1) removemos o caractere '\\n' do final da linha\n",
    "    # (2) substituimos as ',' por ';' para evitar problemas com a separacao da parte decimal de valores.\n",
    "    # (3) removemos as aspas extras\n",
    "    # (4) transformamos a linha em uma lista\n",
    "    # (5) adicionamos a lista de itens na lista 'dados'\n",
    "    for line in file:\n",
    "        #dados.append(line.rstrip().replace('\",\"','\";\"').replace('\"','').split(';'))\n",
    "        dados.append(line.rstrip().replace('\",\"','\";\"').split('\";\"'))\n",
    "        dados[-1][0]=dados[-1][0].replace('\"','')\n",
    "        dados[-1][-1]=dados[-1][-1].replace('\"','')\n",
    "        \n",
    "    # Separando a primeira linha do arquivo para uma lista separada de 'rotulos'\n",
    "    rotulos = dados.pop(0)\n",
    "    \n",
    "    return rotulos, dados\n",
    "\n",
    "############# BLOCO PRINCIPAL DO PROGRAMA #############\n",
    "# Apenas um teste. Fique a vontade para alterar ou apagar esse trecho de código.\n",
    "rotulos, dados = le_dados(\"dados_parlamentares/Ano-2019.csv\")\n",
    "\n",
    "print (rotulos, \"\\n\")\n",
    "print (\"Nome do parlamentar: \", dados[0][0])\n",
    "print (\"Número total de registros: %d\\n\" % (len(dados)))"
   ]
  },
  {
   "cell_type": "code",
   "execution_count": 17,
   "metadata": {
    "colab": {},
    "colab_type": "code",
    "id": "9pqa-dRDdSeb"
   },
   "outputs": [],
   "source": [
    "# Uma função que retorna uma lista com os gastos totais de todos\n",
    "# os parlamentares em um ano específico.\n",
    "# nome do parlamentar -> gastou\n",
    "def gasto_total_ano(ano):\n",
    "    rotulos, dados = le_dados(\"dados_parlamentares/Ano-\"+ str(ano) +\".csv\")\n",
    "    gastos_p = dict() #{}\n",
    "    for linha in dados:\n",
    "        nome = linha[0]\n",
    "        gasto = float(linha[19])\n",
    "        if nome in gastos_p:\n",
    "            # adicionar\n",
    "            gastos_p[nome] = gastos_p[nome] + gasto\n",
    "        else:\n",
    "            # criar\n",
    "            gastos_p[nome] = gasto\n",
    "    return gastos_p"
   ]
  },
  {
   "cell_type": "code",
   "execution_count": 22,
   "metadata": {},
   "outputs": [
    {
     "data": {
      "image/png": "[encoded data removed]",
      "text/plain": [
       "<Figure size 432x288 with 1 Axes>"
      ]
     },
     "metadata": {
      "needs_background": "light"
     },
     "output_type": "display_data"
    }
   ],
   "source": [
    "import matplotlib.pyplot as plt\n",
    "\n",
    "def plot_mais_gastaram(ano):\n",
    "    dicionario = gasto_total_ano(ano)\n",
    "    invertida = []\n",
    "    for chave, valor in dicionario.items():\n",
    "        invertida.append((valor, chave))\n",
    "    invertida.sort(reverse=True)\n",
    "    mais_gastaram = invertida[:20]\n",
    "    nomes = []\n",
    "    valores = []\n",
    "    for valor, nome in mais_gastaram:\n",
    "        nomes.append(nome)\n",
    "        valores.append(valor)\n",
    "    plt.bar(nomes, valores)\n",
    "    plt.xticks(rotation=90)\n",
    "\n",
    "plot_mais_gastaram(2019)"
   ]
  }
 ],
 "metadata": {
  "colab": {
   "name": "10_atividade_interativa.ipynb",
   "provenance": [],
   "toc_visible": true
  },
  "kernelspec": {
   "display_name": "Python 3.8.5 32-bit",
   "language": "python",
   "name": "python3"
  },
  "language_info": {
   "codemirror_mode": {
    "name": "ipython",
    "version": 3
   },
   "file_extension": ".py",
   "mimetype": "text/x-python",
   "name": "python",
   "nbconvert_exporter": "python",
   "pygments_lexer": "ipython3",
   "version": "3.8.5"
  },
  "vscode": {
   "interpreter": {
    "hash": "7a4ba5e6196375a3cb7fc93d24380dbb0fd515dc100f6e1bb2dee397d79ba48a"
   }
  }
 },
 "nbformat": 4,
 "nbformat_minor": 1
}
